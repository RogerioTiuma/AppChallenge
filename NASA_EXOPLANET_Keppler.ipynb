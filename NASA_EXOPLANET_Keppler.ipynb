{
  "cells": [
    {
      "cell_type": "markdown",
      "metadata": {
        "id": "8iNPfUEpqQvv"
      },
      "source": [
        "# Importando Arquivos"
      ]
    },
    {
      "cell_type": "code",
      "execution_count": 174,
      "metadata": {
        "id": "gK6DIRVFDHOn"
      },
      "outputs": [],
      "source": [
        "import numpy as np\n",
        "import pandas as pd\n"
      ]
    },
    {
      "cell_type": "code",
      "execution_count": 175,
      "metadata": {
        "id": "f8fc9c34"
      },
      "outputs": [
        {
          "name": "stderr",
          "output_type": "stream",
          "text": [
            "<>:3: SyntaxWarning: invalid escape sequence '\\k'\n",
            "<>:3: SyntaxWarning: invalid escape sequence '\\k'\n",
            "D:\\TempAster\\ipykernel_4988\\1993398976.py:3: SyntaxWarning: invalid escape sequence '\\k'\n",
            "  df = pd.read_csv('data\\keppler_consolidado.csv', sep=',', quotechar='\"', escapechar='\\\\', skiprows=144, on_bad_lines='skip', header=0)\n"
          ]
        }
      ],
      "source": [
        "# Load the data using the correct file path\n",
        "# Update the path below to where 'keppler_consolidado.csv' is actually located\n",
        "df = pd.read_csv('data\\keppler_consolidado.csv', sep=',', quotechar='\"', escapechar='\\\\', skiprows=144, on_bad_lines='skip', header=0)\n"
      ]
    },
    {
      "cell_type": "markdown",
      "metadata": {
        "id": "LXGOpfwdqWHn"
      },
      "source": [
        "# Analisando Dados"
      ]
    },
    {
      "cell_type": "code",
      "execution_count": 176,
      "metadata": {
        "colab": {
          "base_uri": "https://localhost:8080/",
          "height": 0
        },
        "id": "SHdl0onZIngL",
        "outputId": "94bb3bc0-adf0-41e6-f809-9fb9b6ee337d"
      },
      "outputs": [
        {
          "data": {
            "text/html": [
              "<div>\n",
              "<style scoped>\n",
              "    .dataframe tbody tr th:only-of-type {\n",
              "        vertical-align: middle;\n",
              "    }\n",
              "\n",
              "    .dataframe tbody tr th {\n",
              "        vertical-align: top;\n",
              "    }\n",
              "\n",
              "    .dataframe thead th {\n",
              "        text-align: right;\n",
              "    }\n",
              "</style>\n",
              "<table border=\"1\" class=\"dataframe\">\n",
              "  <thead>\n",
              "    <tr style=\"text-align: right;\">\n",
              "      <th></th>\n",
              "      <th>rowid</th>\n",
              "      <th>kepid</th>\n",
              "      <th>kepoi_name</th>\n",
              "      <th>kepler_name</th>\n",
              "      <th>koi_disposition</th>\n",
              "      <th>koi_vet_stat</th>\n",
              "      <th>koi_vet_date</th>\n",
              "      <th>koi_pdisposition</th>\n",
              "      <th>koi_score</th>\n",
              "      <th>koi_fpflag_nt</th>\n",
              "      <th>...</th>\n",
              "      <th>koi_dicco_mdec</th>\n",
              "      <th>koi_dicco_mdec_err</th>\n",
              "      <th>koi_dicco_msky</th>\n",
              "      <th>koi_dicco_msky_err</th>\n",
              "      <th>koi_dikco_mra</th>\n",
              "      <th>koi_dikco_mra_err</th>\n",
              "      <th>koi_dikco_mdec</th>\n",
              "      <th>koi_dikco_mdec_err</th>\n",
              "      <th>koi_dikco_msky</th>\n",
              "      <th>koi_dikco_msky_err</th>\n",
              "    </tr>\n",
              "  </thead>\n",
              "  <tbody>\n",
              "    <tr>\n",
              "      <th>0</th>\n",
              "      <td>1</td>\n",
              "      <td>10797460</td>\n",
              "      <td>K00752.01</td>\n",
              "      <td>Kepler-227 b</td>\n",
              "      <td>CONFIRMED</td>\n",
              "      <td>Done</td>\n",
              "      <td>2018-08-16</td>\n",
              "      <td>CANDIDATE</td>\n",
              "      <td>1.000</td>\n",
              "      <td>0</td>\n",
              "      <td>...</td>\n",
              "      <td>0.200</td>\n",
              "      <td>0.160</td>\n",
              "      <td>0.200</td>\n",
              "      <td>0.170</td>\n",
              "      <td>0.080</td>\n",
              "      <td>0.130</td>\n",
              "      <td>0.310</td>\n",
              "      <td>0.170</td>\n",
              "      <td>0.320</td>\n",
              "      <td>0.160</td>\n",
              "    </tr>\n",
              "    <tr>\n",
              "      <th>1</th>\n",
              "      <td>2</td>\n",
              "      <td>10797460</td>\n",
              "      <td>K00752.02</td>\n",
              "      <td>Kepler-227 c</td>\n",
              "      <td>CONFIRMED</td>\n",
              "      <td>Done</td>\n",
              "      <td>2018-08-16</td>\n",
              "      <td>CANDIDATE</td>\n",
              "      <td>0.969</td>\n",
              "      <td>0</td>\n",
              "      <td>...</td>\n",
              "      <td>0.000</td>\n",
              "      <td>0.480</td>\n",
              "      <td>0.390</td>\n",
              "      <td>0.360</td>\n",
              "      <td>0.490</td>\n",
              "      <td>0.340</td>\n",
              "      <td>0.120</td>\n",
              "      <td>0.730</td>\n",
              "      <td>0.500</td>\n",
              "      <td>0.450</td>\n",
              "    </tr>\n",
              "    <tr>\n",
              "      <th>2</th>\n",
              "      <td>3</td>\n",
              "      <td>10811496</td>\n",
              "      <td>K00753.01</td>\n",
              "      <td>NaN</td>\n",
              "      <td>CANDIDATE</td>\n",
              "      <td>Done</td>\n",
              "      <td>2018-08-16</td>\n",
              "      <td>CANDIDATE</td>\n",
              "      <td>0.000</td>\n",
              "      <td>0</td>\n",
              "      <td>...</td>\n",
              "      <td>-0.034</td>\n",
              "      <td>0.070</td>\n",
              "      <td>0.042</td>\n",
              "      <td>0.072</td>\n",
              "      <td>0.002</td>\n",
              "      <td>0.071</td>\n",
              "      <td>-0.027</td>\n",
              "      <td>0.074</td>\n",
              "      <td>0.027</td>\n",
              "      <td>0.074</td>\n",
              "    </tr>\n",
              "    <tr>\n",
              "      <th>3</th>\n",
              "      <td>4</td>\n",
              "      <td>10848459</td>\n",
              "      <td>K00754.01</td>\n",
              "      <td>NaN</td>\n",
              "      <td>FALSE POSITIVE</td>\n",
              "      <td>Done</td>\n",
              "      <td>2018-08-16</td>\n",
              "      <td>FALSE POSITIVE</td>\n",
              "      <td>0.000</td>\n",
              "      <td>0</td>\n",
              "      <td>...</td>\n",
              "      <td>0.147</td>\n",
              "      <td>0.078</td>\n",
              "      <td>0.289</td>\n",
              "      <td>0.079</td>\n",
              "      <td>-0.257</td>\n",
              "      <td>0.072</td>\n",
              "      <td>0.099</td>\n",
              "      <td>0.077</td>\n",
              "      <td>0.276</td>\n",
              "      <td>0.076</td>\n",
              "    </tr>\n",
              "    <tr>\n",
              "      <th>4</th>\n",
              "      <td>5</td>\n",
              "      <td>10854555</td>\n",
              "      <td>K00755.01</td>\n",
              "      <td>Kepler-664 b</td>\n",
              "      <td>CONFIRMED</td>\n",
              "      <td>Done</td>\n",
              "      <td>2018-08-16</td>\n",
              "      <td>CANDIDATE</td>\n",
              "      <td>1.000</td>\n",
              "      <td>0</td>\n",
              "      <td>...</td>\n",
              "      <td>-0.090</td>\n",
              "      <td>0.180</td>\n",
              "      <td>0.100</td>\n",
              "      <td>0.140</td>\n",
              "      <td>0.070</td>\n",
              "      <td>0.180</td>\n",
              "      <td>0.020</td>\n",
              "      <td>0.160</td>\n",
              "      <td>0.070</td>\n",
              "      <td>0.200</td>\n",
              "    </tr>\n",
              "    <tr>\n",
              "      <th>...</th>\n",
              "      <td>...</td>\n",
              "      <td>...</td>\n",
              "      <td>...</td>\n",
              "      <td>...</td>\n",
              "      <td>...</td>\n",
              "      <td>...</td>\n",
              "      <td>...</td>\n",
              "      <td>...</td>\n",
              "      <td>...</td>\n",
              "      <td>...</td>\n",
              "      <td>...</td>\n",
              "      <td>...</td>\n",
              "      <td>...</td>\n",
              "      <td>...</td>\n",
              "      <td>...</td>\n",
              "      <td>...</td>\n",
              "      <td>...</td>\n",
              "      <td>...</td>\n",
              "      <td>...</td>\n",
              "      <td>...</td>\n",
              "      <td>...</td>\n",
              "    </tr>\n",
              "    <tr>\n",
              "      <th>9559</th>\n",
              "      <td>9560</td>\n",
              "      <td>10090151</td>\n",
              "      <td>K07985.01</td>\n",
              "      <td>NaN</td>\n",
              "      <td>FALSE POSITIVE</td>\n",
              "      <td>Done</td>\n",
              "      <td>2018-08-16</td>\n",
              "      <td>FALSE POSITIVE</td>\n",
              "      <td>0.000</td>\n",
              "      <td>0</td>\n",
              "      <td>...</td>\n",
              "      <td>-1.757</td>\n",
              "      <td>0.068</td>\n",
              "      <td>2.763</td>\n",
              "      <td>0.074</td>\n",
              "      <td>2.344</td>\n",
              "      <td>0.072</td>\n",
              "      <td>-1.756</td>\n",
              "      <td>0.068</td>\n",
              "      <td>2.929</td>\n",
              "      <td>0.072</td>\n",
              "    </tr>\n",
              "    <tr>\n",
              "      <th>9560</th>\n",
              "      <td>9561</td>\n",
              "      <td>10128825</td>\n",
              "      <td>K07986.01</td>\n",
              "      <td>NaN</td>\n",
              "      <td>CANDIDATE</td>\n",
              "      <td>Done</td>\n",
              "      <td>2018-08-16</td>\n",
              "      <td>CANDIDATE</td>\n",
              "      <td>0.497</td>\n",
              "      <td>0</td>\n",
              "      <td>...</td>\n",
              "      <td>-0.250</td>\n",
              "      <td>0.490</td>\n",
              "      <td>0.780</td>\n",
              "      <td>0.460</td>\n",
              "      <td>0.500</td>\n",
              "      <td>0.400</td>\n",
              "      <td>-0.180</td>\n",
              "      <td>0.470</td>\n",
              "      <td>0.530</td>\n",
              "      <td>0.470</td>\n",
              "    </tr>\n",
              "    <tr>\n",
              "      <th>9561</th>\n",
              "      <td>9562</td>\n",
              "      <td>10147276</td>\n",
              "      <td>K07987.01</td>\n",
              "      <td>NaN</td>\n",
              "      <td>FALSE POSITIVE</td>\n",
              "      <td>Done</td>\n",
              "      <td>2018-08-16</td>\n",
              "      <td>FALSE POSITIVE</td>\n",
              "      <td>0.021</td>\n",
              "      <td>0</td>\n",
              "      <td>...</td>\n",
              "      <td>-3.650</td>\n",
              "      <td>0.260</td>\n",
              "      <td>5.000</td>\n",
              "      <td>0.220</td>\n",
              "      <td>3.380</td>\n",
              "      <td>0.160</td>\n",
              "      <td>-3.890</td>\n",
              "      <td>0.260</td>\n",
              "      <td>5.160</td>\n",
              "      <td>0.220</td>\n",
              "    </tr>\n",
              "    <tr>\n",
              "      <th>9562</th>\n",
              "      <td>9563</td>\n",
              "      <td>10155286</td>\n",
              "      <td>K07988.01</td>\n",
              "      <td>NaN</td>\n",
              "      <td>CANDIDATE</td>\n",
              "      <td>Done</td>\n",
              "      <td>2018-08-16</td>\n",
              "      <td>CANDIDATE</td>\n",
              "      <td>0.092</td>\n",
              "      <td>0</td>\n",
              "      <td>...</td>\n",
              "      <td>1.320</td>\n",
              "      <td>0.670</td>\n",
              "      <td>1.690</td>\n",
              "      <td>0.530</td>\n",
              "      <td>1.450</td>\n",
              "      <td>0.110</td>\n",
              "      <td>1.370</td>\n",
              "      <td>0.660</td>\n",
              "      <td>2.000</td>\n",
              "      <td>0.460</td>\n",
              "    </tr>\n",
              "    <tr>\n",
              "      <th>9563</th>\n",
              "      <td>9564</td>\n",
              "      <td>10156110</td>\n",
              "      <td>K07989.01</td>\n",
              "      <td>NaN</td>\n",
              "      <td>FALSE POSITIVE</td>\n",
              "      <td>Done</td>\n",
              "      <td>2018-08-16</td>\n",
              "      <td>FALSE POSITIVE</td>\n",
              "      <td>0.000</td>\n",
              "      <td>0</td>\n",
              "      <td>...</td>\n",
              "      <td>3.300</td>\n",
              "      <td>1.100</td>\n",
              "      <td>3.400</td>\n",
              "      <td>1.100</td>\n",
              "      <td>0.960</td>\n",
              "      <td>0.670</td>\n",
              "      <td>3.400</td>\n",
              "      <td>1.100</td>\n",
              "      <td>3.500</td>\n",
              "      <td>1.100</td>\n",
              "    </tr>\n",
              "  </tbody>\n",
              "</table>\n",
              "<p>9564 rows × 141 columns</p>\n",
              "</div>"
            ],
            "text/plain": [
              "      rowid     kepid kepoi_name   kepler_name koi_disposition koi_vet_stat  \\\n",
              "0         1  10797460  K00752.01  Kepler-227 b       CONFIRMED         Done   \n",
              "1         2  10797460  K00752.02  Kepler-227 c       CONFIRMED         Done   \n",
              "2         3  10811496  K00753.01           NaN       CANDIDATE         Done   \n",
              "3         4  10848459  K00754.01           NaN  FALSE POSITIVE         Done   \n",
              "4         5  10854555  K00755.01  Kepler-664 b       CONFIRMED         Done   \n",
              "...     ...       ...        ...           ...             ...          ...   \n",
              "9559   9560  10090151  K07985.01           NaN  FALSE POSITIVE         Done   \n",
              "9560   9561  10128825  K07986.01           NaN       CANDIDATE         Done   \n",
              "9561   9562  10147276  K07987.01           NaN  FALSE POSITIVE         Done   \n",
              "9562   9563  10155286  K07988.01           NaN       CANDIDATE         Done   \n",
              "9563   9564  10156110  K07989.01           NaN  FALSE POSITIVE         Done   \n",
              "\n",
              "     koi_vet_date koi_pdisposition  koi_score  koi_fpflag_nt  ...  \\\n",
              "0      2018-08-16        CANDIDATE      1.000              0  ...   \n",
              "1      2018-08-16        CANDIDATE      0.969              0  ...   \n",
              "2      2018-08-16        CANDIDATE      0.000              0  ...   \n",
              "3      2018-08-16   FALSE POSITIVE      0.000              0  ...   \n",
              "4      2018-08-16        CANDIDATE      1.000              0  ...   \n",
              "...           ...              ...        ...            ...  ...   \n",
              "9559   2018-08-16   FALSE POSITIVE      0.000              0  ...   \n",
              "9560   2018-08-16        CANDIDATE      0.497              0  ...   \n",
              "9561   2018-08-16   FALSE POSITIVE      0.021              0  ...   \n",
              "9562   2018-08-16        CANDIDATE      0.092              0  ...   \n",
              "9563   2018-08-16   FALSE POSITIVE      0.000              0  ...   \n",
              "\n",
              "      koi_dicco_mdec  koi_dicco_mdec_err  koi_dicco_msky koi_dicco_msky_err  \\\n",
              "0              0.200               0.160           0.200              0.170   \n",
              "1              0.000               0.480           0.390              0.360   \n",
              "2             -0.034               0.070           0.042              0.072   \n",
              "3              0.147               0.078           0.289              0.079   \n",
              "4             -0.090               0.180           0.100              0.140   \n",
              "...              ...                 ...             ...                ...   \n",
              "9559          -1.757               0.068           2.763              0.074   \n",
              "9560          -0.250               0.490           0.780              0.460   \n",
              "9561          -3.650               0.260           5.000              0.220   \n",
              "9562           1.320               0.670           1.690              0.530   \n",
              "9563           3.300               1.100           3.400              1.100   \n",
              "\n",
              "     koi_dikco_mra  koi_dikco_mra_err  koi_dikco_mdec  koi_dikco_mdec_err  \\\n",
              "0            0.080              0.130           0.310               0.170   \n",
              "1            0.490              0.340           0.120               0.730   \n",
              "2            0.002              0.071          -0.027               0.074   \n",
              "3           -0.257              0.072           0.099               0.077   \n",
              "4            0.070              0.180           0.020               0.160   \n",
              "...            ...                ...             ...                 ...   \n",
              "9559         2.344              0.072          -1.756               0.068   \n",
              "9560         0.500              0.400          -0.180               0.470   \n",
              "9561         3.380              0.160          -3.890               0.260   \n",
              "9562         1.450              0.110           1.370               0.660   \n",
              "9563         0.960              0.670           3.400               1.100   \n",
              "\n",
              "      koi_dikco_msky  koi_dikco_msky_err  \n",
              "0              0.320               0.160  \n",
              "1              0.500               0.450  \n",
              "2              0.027               0.074  \n",
              "3              0.276               0.076  \n",
              "4              0.070               0.200  \n",
              "...              ...                 ...  \n",
              "9559           2.929               0.072  \n",
              "9560           0.530               0.470  \n",
              "9561           5.160               0.220  \n",
              "9562           2.000               0.460  \n",
              "9563           3.500               1.100  \n",
              "\n",
              "[9564 rows x 141 columns]"
            ]
          },
          "execution_count": 176,
          "metadata": {},
          "output_type": "execute_result"
        }
      ],
      "source": [
        "df"
      ]
    },
    {
      "cell_type": "code",
      "execution_count": 177,
      "metadata": {
        "colab": {
          "base_uri": "https://localhost:8080/"
        },
        "id": "zkzPjVffIt36",
        "outputId": "2e3a05ac-c508-4ce2-a705-9b1879de33d7"
      },
      "outputs": [
        {
          "name": "stdout",
          "output_type": "stream",
          "text": [
            "<class 'pandas.core.frame.DataFrame'>\n",
            "RangeIndex: 9564 entries, 0 to 9563\n",
            "Columns: 141 entries, rowid to koi_dikco_msky_err\n",
            "dtypes: float64(117), int64(7), object(17)\n",
            "memory usage: 10.3+ MB\n"
          ]
        }
      ],
      "source": [
        "df.info()"
      ]
    },
    {
      "cell_type": "code",
      "execution_count": 178,
      "metadata": {
        "colab": {
          "base_uri": "https://localhost:8080/",
          "height": 0
        },
        "id": "GWvPaf719Vp1",
        "outputId": "1997a651-d2cb-4d76-dcdd-3c7201cab11c"
      },
      "outputs": [
        {
          "data": {
            "text/html": [
              "<div>\n",
              "<style scoped>\n",
              "    .dataframe tbody tr th:only-of-type {\n",
              "        vertical-align: middle;\n",
              "    }\n",
              "\n",
              "    .dataframe tbody tr th {\n",
              "        vertical-align: top;\n",
              "    }\n",
              "\n",
              "    .dataframe thead th {\n",
              "        text-align: right;\n",
              "    }\n",
              "</style>\n",
              "<table border=\"1\" class=\"dataframe\">\n",
              "  <thead>\n",
              "    <tr style=\"text-align: right;\">\n",
              "      <th></th>\n",
              "      <th>rowid</th>\n",
              "      <th>kepid</th>\n",
              "      <th>koi_score</th>\n",
              "      <th>koi_fpflag_nt</th>\n",
              "      <th>koi_fpflag_ss</th>\n",
              "      <th>koi_fpflag_co</th>\n",
              "      <th>koi_fpflag_ec</th>\n",
              "      <th>koi_period</th>\n",
              "      <th>koi_period_err1</th>\n",
              "      <th>koi_period_err2</th>\n",
              "      <th>...</th>\n",
              "      <th>koi_dicco_mdec</th>\n",
              "      <th>koi_dicco_mdec_err</th>\n",
              "      <th>koi_dicco_msky</th>\n",
              "      <th>koi_dicco_msky_err</th>\n",
              "      <th>koi_dikco_mra</th>\n",
              "      <th>koi_dikco_mra_err</th>\n",
              "      <th>koi_dikco_mdec</th>\n",
              "      <th>koi_dikco_mdec_err</th>\n",
              "      <th>koi_dikco_msky</th>\n",
              "      <th>koi_dikco_msky_err</th>\n",
              "    </tr>\n",
              "  </thead>\n",
              "  <tbody>\n",
              "    <tr>\n",
              "      <th>count</th>\n",
              "      <td>9564.000000</td>\n",
              "      <td>9.564000e+03</td>\n",
              "      <td>8054.000000</td>\n",
              "      <td>9564.000000</td>\n",
              "      <td>9564.000000</td>\n",
              "      <td>9564.000000</td>\n",
              "      <td>9564.000000</td>\n",
              "      <td>9564.000000</td>\n",
              "      <td>9110.000000</td>\n",
              "      <td>9110.000000</td>\n",
              "      <td>...</td>\n",
              "      <td>8965.000000</td>\n",
              "      <td>8965.000000</td>\n",
              "      <td>8965.000000</td>\n",
              "      <td>8965.000000</td>\n",
              "      <td>8994.000000</td>\n",
              "      <td>8994.000000</td>\n",
              "      <td>8994.000000</td>\n",
              "      <td>8994.000000</td>\n",
              "      <td>8994.000000</td>\n",
              "      <td>8994.000000</td>\n",
              "    </tr>\n",
              "    <tr>\n",
              "      <th>mean</th>\n",
              "      <td>4782.500000</td>\n",
              "      <td>7.690628e+06</td>\n",
              "      <td>0.480829</td>\n",
              "      <td>0.208595</td>\n",
              "      <td>0.232748</td>\n",
              "      <td>0.197512</td>\n",
              "      <td>0.120033</td>\n",
              "      <td>75.671358</td>\n",
              "      <td>0.002148</td>\n",
              "      <td>-0.002148</td>\n",
              "      <td>...</td>\n",
              "      <td>-0.045420</td>\n",
              "      <td>0.446229</td>\n",
              "      <td>1.866561</td>\n",
              "      <td>0.489930</td>\n",
              "      <td>-0.024244</td>\n",
              "      <td>0.425337</td>\n",
              "      <td>-0.076749</td>\n",
              "      <td>0.436684</td>\n",
              "      <td>1.812566</td>\n",
              "      <td>0.476060</td>\n",
              "    </tr>\n",
              "    <tr>\n",
              "      <th>std</th>\n",
              "      <td>2761.033321</td>\n",
              "      <td>2.653459e+06</td>\n",
              "      <td>0.476928</td>\n",
              "      <td>4.767290</td>\n",
              "      <td>0.422605</td>\n",
              "      <td>0.398142</td>\n",
              "      <td>0.325018</td>\n",
              "      <td>1334.744046</td>\n",
              "      <td>0.008236</td>\n",
              "      <td>0.008236</td>\n",
              "      <td>...</td>\n",
              "      <td>2.573558</td>\n",
              "      <td>0.569933</td>\n",
              "      <td>2.988742</td>\n",
              "      <td>0.646403</td>\n",
              "      <td>2.382286</td>\n",
              "      <td>0.602150</td>\n",
              "      <td>2.553758</td>\n",
              "      <td>0.567535</td>\n",
              "      <td>2.986376</td>\n",
              "      <td>0.647587</td>\n",
              "    </tr>\n",
              "    <tr>\n",
              "      <th>min</th>\n",
              "      <td>1.000000</td>\n",
              "      <td>7.574500e+05</td>\n",
              "      <td>0.000000</td>\n",
              "      <td>0.000000</td>\n",
              "      <td>0.000000</td>\n",
              "      <td>0.000000</td>\n",
              "      <td>0.000000</td>\n",
              "      <td>0.241843</td>\n",
              "      <td>0.000000</td>\n",
              "      <td>-0.172500</td>\n",
              "      <td>...</td>\n",
              "      <td>-75.900000</td>\n",
              "      <td>0.067000</td>\n",
              "      <td>0.000000</td>\n",
              "      <td>0.067000</td>\n",
              "      <td>-27.800000</td>\n",
              "      <td>0.067000</td>\n",
              "      <td>-76.600000</td>\n",
              "      <td>0.067000</td>\n",
              "      <td>0.000000</td>\n",
              "      <td>0.067000</td>\n",
              "    </tr>\n",
              "    <tr>\n",
              "      <th>25%</th>\n",
              "      <td>2391.750000</td>\n",
              "      <td>5.556034e+06</td>\n",
              "      <td>0.000000</td>\n",
              "      <td>0.000000</td>\n",
              "      <td>0.000000</td>\n",
              "      <td>0.000000</td>\n",
              "      <td>0.000000</td>\n",
              "      <td>2.733684</td>\n",
              "      <td>0.000005</td>\n",
              "      <td>-0.000276</td>\n",
              "      <td>...</td>\n",
              "      <td>-0.387000</td>\n",
              "      <td>0.098000</td>\n",
              "      <td>0.170000</td>\n",
              "      <td>0.100000</td>\n",
              "      <td>-0.310000</td>\n",
              "      <td>0.087000</td>\n",
              "      <td>-0.390000</td>\n",
              "      <td>0.090000</td>\n",
              "      <td>0.210000</td>\n",
              "      <td>0.094000</td>\n",
              "    </tr>\n",
              "    <tr>\n",
              "      <th>50%</th>\n",
              "      <td>4782.500000</td>\n",
              "      <td>7.906892e+06</td>\n",
              "      <td>0.334000</td>\n",
              "      <td>0.000000</td>\n",
              "      <td>0.000000</td>\n",
              "      <td>0.000000</td>\n",
              "      <td>0.000000</td>\n",
              "      <td>9.752831</td>\n",
              "      <td>0.000035</td>\n",
              "      <td>-0.000035</td>\n",
              "      <td>...</td>\n",
              "      <td>0.000000</td>\n",
              "      <td>0.280000</td>\n",
              "      <td>0.610000</td>\n",
              "      <td>0.310000</td>\n",
              "      <td>-0.004000</td>\n",
              "      <td>0.250000</td>\n",
              "      <td>-0.017000</td>\n",
              "      <td>0.270000</td>\n",
              "      <td>0.583000</td>\n",
              "      <td>0.290000</td>\n",
              "    </tr>\n",
              "    <tr>\n",
              "      <th>75%</th>\n",
              "      <td>7173.250000</td>\n",
              "      <td>9.873066e+06</td>\n",
              "      <td>0.998000</td>\n",
              "      <td>0.000000</td>\n",
              "      <td>0.000000</td>\n",
              "      <td>0.000000</td>\n",
              "      <td>0.000000</td>\n",
              "      <td>40.715178</td>\n",
              "      <td>0.000276</td>\n",
              "      <td>-0.000005</td>\n",
              "      <td>...</td>\n",
              "      <td>0.300000</td>\n",
              "      <td>0.610000</td>\n",
              "      <td>2.160000</td>\n",
              "      <td>0.680000</td>\n",
              "      <td>0.290000</td>\n",
              "      <td>0.590000</td>\n",
              "      <td>0.300000</td>\n",
              "      <td>0.600000</td>\n",
              "      <td>1.970000</td>\n",
              "      <td>0.660000</td>\n",
              "    </tr>\n",
              "    <tr>\n",
              "      <th>max</th>\n",
              "      <td>9564.000000</td>\n",
              "      <td>1.293514e+07</td>\n",
              "      <td>1.000000</td>\n",
              "      <td>465.000000</td>\n",
              "      <td>1.000000</td>\n",
              "      <td>1.000000</td>\n",
              "      <td>1.000000</td>\n",
              "      <td>129995.778400</td>\n",
              "      <td>0.172500</td>\n",
              "      <td>0.000000</td>\n",
              "      <td>...</td>\n",
              "      <td>27.500000</td>\n",
              "      <td>22.000000</td>\n",
              "      <td>88.600000</td>\n",
              "      <td>32.000000</td>\n",
              "      <td>46.570000</td>\n",
              "      <td>33.000000</td>\n",
              "      <td>34.000000</td>\n",
              "      <td>22.000000</td>\n",
              "      <td>89.600000</td>\n",
              "      <td>32.000000</td>\n",
              "    </tr>\n",
              "  </tbody>\n",
              "</table>\n",
              "<p>8 rows × 124 columns</p>\n",
              "</div>"
            ],
            "text/plain": [
              "             rowid         kepid    koi_score  koi_fpflag_nt  koi_fpflag_ss  \\\n",
              "count  9564.000000  9.564000e+03  8054.000000    9564.000000    9564.000000   \n",
              "mean   4782.500000  7.690628e+06     0.480829       0.208595       0.232748   \n",
              "std    2761.033321  2.653459e+06     0.476928       4.767290       0.422605   \n",
              "min       1.000000  7.574500e+05     0.000000       0.000000       0.000000   \n",
              "25%    2391.750000  5.556034e+06     0.000000       0.000000       0.000000   \n",
              "50%    4782.500000  7.906892e+06     0.334000       0.000000       0.000000   \n",
              "75%    7173.250000  9.873066e+06     0.998000       0.000000       0.000000   \n",
              "max    9564.000000  1.293514e+07     1.000000     465.000000       1.000000   \n",
              "\n",
              "       koi_fpflag_co  koi_fpflag_ec     koi_period  koi_period_err1  \\\n",
              "count    9564.000000    9564.000000    9564.000000      9110.000000   \n",
              "mean        0.197512       0.120033      75.671358         0.002148   \n",
              "std         0.398142       0.325018    1334.744046         0.008236   \n",
              "min         0.000000       0.000000       0.241843         0.000000   \n",
              "25%         0.000000       0.000000       2.733684         0.000005   \n",
              "50%         0.000000       0.000000       9.752831         0.000035   \n",
              "75%         0.000000       0.000000      40.715178         0.000276   \n",
              "max         1.000000       1.000000  129995.778400         0.172500   \n",
              "\n",
              "       koi_period_err2  ...  koi_dicco_mdec  koi_dicco_mdec_err  \\\n",
              "count      9110.000000  ...     8965.000000         8965.000000   \n",
              "mean         -0.002148  ...       -0.045420            0.446229   \n",
              "std           0.008236  ...        2.573558            0.569933   \n",
              "min          -0.172500  ...      -75.900000            0.067000   \n",
              "25%          -0.000276  ...       -0.387000            0.098000   \n",
              "50%          -0.000035  ...        0.000000            0.280000   \n",
              "75%          -0.000005  ...        0.300000            0.610000   \n",
              "max           0.000000  ...       27.500000           22.000000   \n",
              "\n",
              "       koi_dicco_msky  koi_dicco_msky_err  koi_dikco_mra  koi_dikco_mra_err  \\\n",
              "count     8965.000000         8965.000000    8994.000000        8994.000000   \n",
              "mean         1.866561            0.489930      -0.024244           0.425337   \n",
              "std          2.988742            0.646403       2.382286           0.602150   \n",
              "min          0.000000            0.067000     -27.800000           0.067000   \n",
              "25%          0.170000            0.100000      -0.310000           0.087000   \n",
              "50%          0.610000            0.310000      -0.004000           0.250000   \n",
              "75%          2.160000            0.680000       0.290000           0.590000   \n",
              "max         88.600000           32.000000      46.570000          33.000000   \n",
              "\n",
              "       koi_dikco_mdec  koi_dikco_mdec_err  koi_dikco_msky  koi_dikco_msky_err  \n",
              "count     8994.000000         8994.000000     8994.000000         8994.000000  \n",
              "mean        -0.076749            0.436684        1.812566            0.476060  \n",
              "std          2.553758            0.567535        2.986376            0.647587  \n",
              "min        -76.600000            0.067000        0.000000            0.067000  \n",
              "25%         -0.390000            0.090000        0.210000            0.094000  \n",
              "50%         -0.017000            0.270000        0.583000            0.290000  \n",
              "75%          0.300000            0.600000        1.970000            0.660000  \n",
              "max         34.000000           22.000000       89.600000           32.000000  \n",
              "\n",
              "[8 rows x 124 columns]"
            ]
          },
          "execution_count": 178,
          "metadata": {},
          "output_type": "execute_result"
        }
      ],
      "source": [
        "df.describe()"
      ]
    },
    {
      "cell_type": "code",
      "execution_count": 179,
      "metadata": {
        "colab": {
          "base_uri": "https://localhost:8080/"
        },
        "id": "vEuWTFIp9Y5I",
        "outputId": "aa8027f0-66f1-4db9-d062-43031a8f9ebb"
      },
      "outputs": [
        {
          "name": "stdout",
          "output_type": "stream",
          "text": [
            "<class 'pandas.core.frame.DataFrame'>\n",
            "RangeIndex: 9564 entries, 0 to 9563\n",
            "Columns: 141 entries, rowid to koi_dikco_msky_err\n",
            "dtypes: float64(117), int64(7), object(17)\n",
            "memory usage: 10.3+ MB\n"
          ]
        }
      ],
      "source": [
        "df.info()"
      ]
    },
    {
      "cell_type": "markdown",
      "metadata": {
        "id": "7W1Xwhu6qcRs"
      },
      "source": [
        "# Tratando Dados"
      ]
    },
    {
      "cell_type": "code",
      "execution_count": 180,
      "metadata": {
        "colab": {
          "base_uri": "https://localhost:8080/"
        },
        "id": "CkO3wnyFRa0M",
        "outputId": "17d7d667-e202-4281-caa4-10b379281d60"
      },
      "outputs": [
        {
          "data": {
            "text/plain": [
              "['rowid',\n",
              " 'kepid',\n",
              " 'kepoi_name',\n",
              " 'kepler_name',\n",
              " 'koi_disposition',\n",
              " 'koi_vet_stat',\n",
              " 'koi_vet_date',\n",
              " 'koi_pdisposition',\n",
              " 'koi_score',\n",
              " 'koi_fpflag_nt',\n",
              " 'koi_fpflag_ss',\n",
              " 'koi_fpflag_co',\n",
              " 'koi_fpflag_ec',\n",
              " 'koi_disp_prov',\n",
              " 'koi_comment',\n",
              " 'koi_period',\n",
              " 'koi_period_err1',\n",
              " 'koi_period_err2',\n",
              " 'koi_time0bk',\n",
              " 'koi_time0bk_err1',\n",
              " 'koi_time0bk_err2',\n",
              " 'koi_time0',\n",
              " 'koi_time0_err1',\n",
              " 'koi_time0_err2',\n",
              " 'koi_eccen',\n",
              " 'koi_eccen_err1',\n",
              " 'koi_eccen_err2',\n",
              " 'koi_longp',\n",
              " 'koi_longp_err1',\n",
              " 'koi_longp_err2',\n",
              " 'koi_impact',\n",
              " 'koi_impact_err1',\n",
              " 'koi_impact_err2',\n",
              " 'koi_duration',\n",
              " 'koi_duration_err1',\n",
              " 'koi_duration_err2',\n",
              " 'koi_ingress',\n",
              " 'koi_ingress_err1',\n",
              " 'koi_ingress_err2',\n",
              " 'koi_depth',\n",
              " 'koi_depth_err1',\n",
              " 'koi_depth_err2',\n",
              " 'koi_ror',\n",
              " 'koi_ror_err1',\n",
              " 'koi_ror_err2',\n",
              " 'koi_srho',\n",
              " 'koi_srho_err1',\n",
              " 'koi_srho_err2',\n",
              " 'koi_fittype',\n",
              " 'koi_prad',\n",
              " 'koi_prad_err1',\n",
              " 'koi_prad_err2',\n",
              " 'koi_sma',\n",
              " 'koi_sma_err1',\n",
              " 'koi_sma_err2',\n",
              " 'koi_incl',\n",
              " 'koi_incl_err1',\n",
              " 'koi_incl_err2',\n",
              " 'koi_teq',\n",
              " 'koi_teq_err1',\n",
              " 'koi_teq_err2',\n",
              " 'koi_insol',\n",
              " 'koi_insol_err1',\n",
              " 'koi_insol_err2',\n",
              " 'koi_dor',\n",
              " 'koi_dor_err1',\n",
              " 'koi_dor_err2',\n",
              " 'koi_limbdark_mod',\n",
              " 'koi_ldm_coeff4',\n",
              " 'koi_ldm_coeff3',\n",
              " 'koi_ldm_coeff2',\n",
              " 'koi_ldm_coeff1',\n",
              " 'koi_parm_prov',\n",
              " 'koi_max_sngle_ev',\n",
              " 'koi_max_mult_ev',\n",
              " 'koi_model_snr',\n",
              " 'koi_count',\n",
              " 'koi_num_transits',\n",
              " 'koi_tce_plnt_num',\n",
              " 'koi_tce_delivname',\n",
              " 'koi_quarters',\n",
              " 'koi_bin_oedp_sig',\n",
              " 'koi_trans_mod',\n",
              " 'koi_model_dof',\n",
              " 'koi_model_chisq',\n",
              " 'koi_datalink_dvr',\n",
              " 'koi_datalink_dvs',\n",
              " 'koi_steff',\n",
              " 'koi_steff_err1',\n",
              " 'koi_steff_err2',\n",
              " 'koi_slogg',\n",
              " 'koi_slogg_err1',\n",
              " 'koi_slogg_err2',\n",
              " 'koi_smet',\n",
              " 'koi_smet_err1',\n",
              " 'koi_smet_err2',\n",
              " 'koi_srad',\n",
              " 'koi_srad_err1',\n",
              " 'koi_srad_err2',\n",
              " 'koi_smass',\n",
              " 'koi_smass_err1',\n",
              " 'koi_smass_err2',\n",
              " 'koi_sage',\n",
              " 'koi_sage_err1',\n",
              " 'koi_sage_err2',\n",
              " 'koi_sparprov',\n",
              " 'ra',\n",
              " 'dec',\n",
              " 'koi_kepmag',\n",
              " 'koi_gmag',\n",
              " 'koi_rmag',\n",
              " 'koi_imag',\n",
              " 'koi_zmag',\n",
              " 'koi_jmag',\n",
              " 'koi_hmag',\n",
              " 'koi_kmag',\n",
              " 'koi_fwm_stat_sig',\n",
              " 'koi_fwm_sra',\n",
              " 'koi_fwm_sra_err',\n",
              " 'koi_fwm_sdec',\n",
              " 'koi_fwm_sdec_err',\n",
              " 'koi_fwm_srao',\n",
              " 'koi_fwm_srao_err',\n",
              " 'koi_fwm_sdeco',\n",
              " 'koi_fwm_sdeco_err',\n",
              " 'koi_fwm_prao',\n",
              " 'koi_fwm_prao_err',\n",
              " 'koi_fwm_pdeco',\n",
              " 'koi_fwm_pdeco_err',\n",
              " 'koi_dicco_mra',\n",
              " 'koi_dicco_mra_err',\n",
              " 'koi_dicco_mdec',\n",
              " 'koi_dicco_mdec_err',\n",
              " 'koi_dicco_msky',\n",
              " 'koi_dicco_msky_err',\n",
              " 'koi_dikco_mra',\n",
              " 'koi_dikco_mra_err',\n",
              " 'koi_dikco_mdec',\n",
              " 'koi_dikco_mdec_err',\n",
              " 'koi_dikco_msky',\n",
              " 'koi_dikco_msky_err']"
            ]
          },
          "execution_count": 180,
          "metadata": {},
          "output_type": "execute_result"
        }
      ],
      "source": [
        "list(df.columns)\n"
      ]
    },
    {
      "cell_type": "code",
      "execution_count": 181,
      "metadata": {
        "id": "6l3Drj0wS-sl"
      },
      "outputs": [],
      "source": [
        "mapeamento_koi = {\n",
        "    # Identification and Catalog\n",
        "    'rowid': 'Row ID',\n",
        "    'kepid': 'KepID',\n",
        "    'kepoi_name': 'KOI Name',\n",
        "    'kepler_name': 'Kepler Name',\n",
        "\n",
        "    # Disposition and Status\n",
        "    'koi_disposition': 'Exoplanet Archive Disposition',\n",
        "    'koi_vet_stat': 'Vetting Status',\n",
        "    'koi_vet_date': 'Date of Last Parameter Update',\n",
        "    'koi_pdisposition': 'Disposition Using Kepler Data',\n",
        "    'koi_score': 'Disposition Score',\n",
        "\n",
        "    # False Positive Flags\n",
        "    'koi_fpflag_nt': 'Not Transit-Like False Positive Flag',\n",
        "    'koi_fpflag_ss': 'Stellar Eclipse False Positive Flag',\n",
        "    'koi_fpflag_co': 'Centroid Offset False Positive Flag',\n",
        "    'koi_fpflag_ec': 'Ephemeris Match Indicates Contamination False Positive Flag',\n",
        "    'koi_disp_prov': 'Disposition Provenance',\n",
        "    'koi_comment': 'Comment',\n",
        "\n",
        "    # Orbital Parameters\n",
        "    'koi_period': 'Orbital Period [days]',\n",
        "    'koi_period_err1': 'Orbital Period Upper Unc. [days]',\n",
        "    'koi_period_err2': 'Orbital Period Lower Unc. [days]',\n",
        "    'koi_time0bk': 'Transit Epoch [BKJD]',\n",
        "    'koi_time0bk_err1': 'Transit Epoch Upper Unc. [BKJD]',\n",
        "    'koi_time0bk_err2': 'Transit Epoch Lower Unc. [BKJD]',\n",
        "    'koi_time0': 'Transit Epoch [BJD]',\n",
        "    'koi_time0_err1': 'Transit Epoch Upper Unc. [BJD]',\n",
        "    'koi_time0_err2': 'Transit Epoch Lower Unc. [BJD]',\n",
        "    'koi_eccen': 'Eccentricity',\n",
        "    'koi_eccen_err1': 'Eccentricity Upper Unc.',\n",
        "    'koi_eccen_err2': 'Eccentricity Lower Unc.',\n",
        "    'koi_longp': 'Longitude of Periastron [deg]',\n",
        "    'koi_longp_err1': 'Longitude of Periastron Upper Unc. [deg]',\n",
        "    'koi_longp_err2': 'Longitude of Periastron Lower Unc. [deg]',\n",
        "\n",
        "    # Transit Parameters\n",
        "    'koi_impact': 'Impact Parameter',\n",
        "    'koi_impact_err1': 'Impact Parameter Upper Unc.',\n",
        "    'koi_impact_err2': 'Impact Parameter Lower Unc.',\n",
        "    'koi_duration': 'Transit Duration [hrs]',\n",
        "    'koi_duration_err1': 'Transit Duration Upper Unc. [hrs]',\n",
        "    'koi_duration_err2': 'Transit Duration Lower Unc. [hrs]',\n",
        "    'koi_ingress': 'Ingress Duration [hrs]',\n",
        "    'koi_ingress_err1': 'Ingress Duration Upper Unc. [hrs]',\n",
        "    'koi_ingress_err2': 'Ingress Duration Lower Unc. [hrs]',\n",
        "    'koi_depth': 'Transit Depth [ppm]',\n",
        "    'koi_depth_err1': 'Transit Depth Upper Unc. [ppm]',\n",
        "    'koi_depth_err2': 'Transit Depth Lower Unc. [ppm]',\n",
        "    'koi_ror': 'Planet-Star Radius Ratio',\n",
        "    'koi_ror_err1': 'Planet-Star Radius Ratio Upper Unc.',\n",
        "    'koi_ror_err2': 'Planet-Star Radius Ratio Lower Unc.',\n",
        "\n",
        "    # Fitted Stellar Properties\n",
        "    'koi_srho': 'Fitted Stellar Density [g/cm**3]',\n",
        "    'koi_srho_err1': 'Fitted Stellar Density Upper Unc. [g/cm**3]',\n",
        "    'koi_srho_err2': 'Fitted Stellar Density Lower Unc. [g/cm**3]',\n",
        "    'koi_fittype': 'Planetary Fit Type',\n",
        "\n",
        "    # Planet Characteristics\n",
        "    'koi_prad': 'Planetary Radius [Earth radii]',\n",
        "    'koi_prad_err1': 'Planetary Radius Upper Unc. [Earth radii]',\n",
        "    'koi_prad_err2': 'Planetary Radius Lower Unc. [Earth radii]',\n",
        "    'koi_sma': 'Orbit Semi-Major Axis [au]',\n",
        "    'koi_sma_err1': 'Orbit Semi-Major Axis Upper Unc. [au]',\n",
        "    'koi_sma_err2': 'Orbit Semi-Major Axis Lower Unc. [au]',\n",
        "    'koi_incl': 'Inclination [deg]',\n",
        "    'koi_incl_err1': 'Inclination Upper Unc. [deg]',\n",
        "    'koi_incl_err2': 'Inclination Lower Unc. [deg]',\n",
        "    'koi_teq': 'Equilibrium Temperature [K]',\n",
        "    'koi_teq_err1': 'Equilibrium Temperature Upper Unc. [K]',\n",
        "    'koi_teq_err2': 'Equilibrium Temperature Lower Unc. [K]',\n",
        "    'koi_insol': 'Insolation Flux [Earth flux]',\n",
        "    'koi_insol_err1': 'Insolation Flux Upper Unc. [Earth flux]',\n",
        "    'koi_insol_err2': 'Insolation Flux Lower Unc. [Earth flux]',\n",
        "    'koi_dor': 'Planet-Star Distance over Star Radius',\n",
        "    'koi_dor_err1': 'Planet-Star Distance over Star Radius Upper Unc.',\n",
        "    'koi_dor_err2': 'Planet-Star Distance over Star Radius Lower Unc.',\n",
        "\n",
        "    # Limb Darkening Model\n",
        "    'koi_limbdark_mod': 'Limb Darkening Model',\n",
        "    'koi_ldm_coeff4': 'Limb Darkening Coeff. 4',\n",
        "    'koi_ldm_coeff3': 'Limb Darkening Coeff. 3',\n",
        "    'koi_ldm_coeff2': 'Limb Darkening Coeff. 2',\n",
        "    'koi_ldm_coeff1': 'Limb Darkening Coeff. 1',\n",
        "    'koi_parm_prov': 'Parameters Provenance',\n",
        "\n",
        "    # Detection Statistics\n",
        "    'koi_max_sngle_ev': 'Maximum Single Event Statistic',\n",
        "    'koi_max_mult_ev': 'Maximum Multiple Event Statistic',\n",
        "    'koi_model_snr': 'Transit Signal-to-Noise',\n",
        "    'koi_count': 'Number of Planets',\n",
        "    'koi_num_transits': 'Number of Transits',\n",
        "    'koi_tce_plnt_num': 'TCE Planet Number',\n",
        "    'koi_tce_delivname': 'TCE Delivery',\n",
        "    'koi_quarters': 'Quarters',\n",
        "    'koi_bin_oedp_sig': 'Odd-Even Depth Comparison Statistic',\n",
        "    'koi_trans_mod': 'Transit Model',\n",
        "    'koi_model_dof': 'Degrees of Freedom',\n",
        "    'koi_model_chisq': 'Chi-Square',\n",
        "\n",
        "    # Data Links\n",
        "    'koi_datalink_dvr': 'Link to DV Report',\n",
        "    'koi_datalink_dvs': 'Link to DV Summary',\n",
        "\n",
        "    # Stellar Properties\n",
        "    'koi_steff': 'Stellar Effective Temperature [K]',\n",
        "    'koi_steff_err1': 'Stellar Effective Temperature Upper Unc. [K]',\n",
        "    'koi_steff_err2': 'Stellar Effective Temperature Lower Unc. [K]',\n",
        "    'koi_slogg': 'Stellar Surface Gravity [log10(cm/s**2)]',\n",
        "    'koi_slogg_err1': 'Stellar Surface Gravity Upper Unc. [log10(cm/s**2)]',\n",
        "    'koi_slogg_err2': 'Stellar Surface Gravity Lower Unc. [log10(cm/s**2)]',\n",
        "    'koi_smet': 'Stellar Metallicity [dex]',\n",
        "    'koi_smet_err1': 'Stellar Metallicity Upper Unc. [dex]',\n",
        "    'koi_smet_err2': 'Stellar Metallicity Lower Unc. [dex]',\n",
        "    'koi_srad': 'Stellar Radius [Solar radii]',\n",
        "    'koi_srad_err1': 'Stellar Radius Upper Unc. [Solar radii]',\n",
        "    'koi_srad_err2': 'Stellar Radius Lower Unc. [Solar radii]',\n",
        "    'koi_smass': 'Stellar Mass [Solar mass]',\n",
        "    'koi_smass_err1': 'Stellar Mass Upper Unc. [Solar mass]',\n",
        "    'koi_smass_err2': 'Stellar Mass Lower Unc. [Solar mass]',\n",
        "    'koi_sage': 'Stellar Age [Gyr]',\n",
        "    'koi_sage_err1': 'Stellar Age Upper Unc. [Gyr]',\n",
        "    'koi_sage_err2': 'Stellar Age Lower Unc. [Gyr]',\n",
        "    'koi_sparprov': 'Stellar Parameter Provenance',\n",
        "\n",
        "    # Coordinates and Position\n",
        "    'ra': 'RA [decimal degrees]',\n",
        "    'dec': 'Dec [decimal degrees]',\n",
        "\n",
        "    # Magnitudes\n",
        "    'koi_kepmag': 'Kepler-band [mag]',\n",
        "    'koi_gmag': \"g'-band [mag]\",\n",
        "    'koi_rmag': \"r'-band [mag]\",\n",
        "    'koi_imag': \"i'-band [mag]\",\n",
        "    'koi_zmag': \"z'-band [mag]\",\n",
        "    'koi_jmag': 'J-band [mag]',\n",
        "    'koi_hmag': 'H-band [mag]',\n",
        "    'koi_kmag': 'K-band [mag]',\n",
        "\n",
        "    # Flux Weighted Centroid Analysis\n",
        "    'koi_fwm_stat_sig': 'FW Offset Significance [percent]',\n",
        "    'koi_fwm_sra': 'FW Source α(OOT) [hrs]',\n",
        "    'koi_fwm_sra_err': 'FW Source α(OOT) Unc. [hrs]',\n",
        "    'koi_fwm_sdec': 'FW Source δ(OOT) [deg]',\n",
        "    'koi_fwm_sdec_err': 'FW Source δ(OOT) Unc. [deg]',\n",
        "    'koi_fwm_srao': 'FW Source Δα(OOT) [sec]',\n",
        "    'koi_fwm_srao_err': 'FW Source Δα(OOT) Unc. [sec]',\n",
        "    'koi_fwm_sdeco': 'FW Source Δδ(OOT) [arcsec]',\n",
        "    'koi_fwm_sdeco_err': 'FW Source Δδ(OOT) Unc. [arcsec]',\n",
        "    'koi_fwm_prao': 'FW Δα(OOT) [sec]',\n",
        "    'koi_fwm_prao_err': 'FW Δα(OOT) Unc. [sec]',\n",
        "    'koi_fwm_pdeco': 'FW Δδ(OOT) [arcsec]',\n",
        "    'koi_fwm_pdeco_err': 'FW Δδ(OOT) Unc. [arcsec]',\n",
        "\n",
        "    # PRF (Pixel Response Function) Analysis\n",
        "    'koi_dicco_mra': 'PRF Δα_SQ(OOT) [arcsec]',\n",
        "    'koi_dicco_mra_err': 'PRF Δα_SQ(OOT) Unc. [arcsec]',\n",
        "    'koi_dicco_mdec': 'PRF Δδ_SQ(OOT) [arcsec]',\n",
        "    'koi_dicco_mdec_err': 'PRF Δδ_SQ(OOT) Unc. [arcsec]',\n",
        "    'koi_dicco_msky': 'PRF Δθ_SQ(OOT) [arcsec]',\n",
        "    'koi_dicco_msky_err': 'PRF Δθ_SQ(OOT) Unc. [arcsec]',\n",
        "    'koi_dikco_mra': 'PRF Δα_SQ(KIC) [arcsec]',\n",
        "    'koi_dikco_mra_err': 'PRF Δα_SQ(KIC) Unc. [arcsec]',\n",
        "    'koi_dikco_mdec': 'PRF Δδ_SQ(KIC) [arcsec]',\n",
        "    'koi_dikco_mdec_err': 'PRF Δδ_SQ(KIC) Unc. [arcsec]',\n",
        "    'koi_dikco_msky': 'PRF Δθ_SQ(KIC) [arcsec]',\n",
        "    'koi_dikco_msky_err': 'PRF Δθ_SQ(KIC) Unc. [arcsec]',\n",
        "}\n"
      ]
    },
    {
      "cell_type": "code",
      "execution_count": 182,
      "metadata": {
        "id": "zFzaTlHVVaen"
      },
      "outputs": [],
      "source": [
        "df.rename(columns=mapeamento_koi, inplace=True)"
      ]
    },
    {
      "cell_type": "code",
      "execution_count": 183,
      "metadata": {
        "id": "od2096W6yOqi"
      },
      "outputs": [],
      "source": [
        "import missingno as msno\n",
        "import matplotlib.pyplot as plt\n",
        "import seaborn as sns"
      ]
    },
    {
      "cell_type": "code",
      "execution_count": 184,
      "metadata": {
        "colab": {
          "base_uri": "https://localhost:8080/",
          "height": 0
        },
        "id": "_kKklOlyyRCi",
        "outputId": "81530853-6784-4e10-c232-29ce258492b5"
      },
      "outputs": [
        {
          "data": {
            "text/plain": [
              "<Axes: >"
            ]
          },
          "execution_count": 184,
          "metadata": {},
          "output_type": "execute_result"
        },
        {
          "data": {
            "image/png": "[encoded data removed]",
            "text/plain": [
              "<Figure size 2500x1000 with 2 Axes>"
            ]
          },
          "metadata": {},
          "output_type": "display_data"
        }
      ],
      "source": [
        "msno.matrix(df)"
      ]
    },
    {
      "cell_type": "code",
      "execution_count": 185,
      "metadata": {
        "id": "K7bkUu_4yY2t"
      },
      "outputs": [],
      "source": [
        "df_limpo = df.dropna(axis=1, how='all')"
      ]
    },
    {
      "cell_type": "code",
      "execution_count": 186,
      "metadata": {
        "colab": {
          "base_uri": "https://localhost:8080/",
          "height": 0
        },
        "id": "8aRDXanNzDvI",
        "outputId": "d8625302-05e9-4607-fd03-d8ac4f9f7f72"
      },
      "outputs": [
        {
          "data": {
            "text/plain": [
              "<Axes: >"
            ]
          },
          "execution_count": 186,
          "metadata": {},
          "output_type": "execute_result"
        },
        {
          "data": {
            "image/png": "[encoded data removed]",
            "text/plain": [
              "<Figure size 2500x1000 with 2 Axes>"
            ]
          },
          "metadata": {},
          "output_type": "display_data"
        }
      ],
      "source": [
        "msno.matrix(df_limpo)"
      ]
    },
    {
      "cell_type": "code",
      "execution_count": 187,
      "metadata": {
        "colab": {
          "base_uri": "https://localhost:8080/"
        },
        "id": "5SwSMjbfy_PJ",
        "outputId": "3de3d84b-7728-4120-d47b-0701147f0c1e"
      },
      "outputs": [
        {
          "name": "stdout",
          "output_type": "stream",
          "text": [
            "<class 'pandas.core.frame.DataFrame'>\n",
            "RangeIndex: 9564 entries, 0 to 9563\n",
            "Columns: 122 entries, Row ID to PRF Δθ_SQ(KIC) Unc. [arcsec]\n",
            "dtypes: float64(98), int64(7), object(17)\n",
            "memory usage: 8.9+ MB\n"
          ]
        }
      ],
      "source": [
        "df_limpo.info()"
      ]
    },
    {
      "cell_type": "code",
      "execution_count": 188,
      "metadata": {
        "colab": {
          "base_uri": "https://localhost:8080/"
        },
        "id": "rqjNzFg-S_Qt",
        "outputId": "9e99c8d0-6a3f-4101-9aaa-bc991f84f730"
      },
      "outputs": [
        {
          "name": "stdout",
          "output_type": "stream",
          "text": [
            "                            Coluna  Valores_Nulos\n",
            "0                           Row ID              0\n",
            "1                            KepID              0\n",
            "2                         KOI Name              0\n",
            "3                      Kepler Name           6817\n",
            "4    Exoplanet Archive Disposition              0\n",
            "..                             ...            ...\n",
            "136   PRF Δα_SQ(KIC) Unc. [arcsec]            570\n",
            "137        PRF Δδ_SQ(KIC) [arcsec]            570\n",
            "138   PRF Δδ_SQ(KIC) Unc. [arcsec]            570\n",
            "139        PRF Δθ_SQ(KIC) [arcsec]            570\n",
            "140   PRF Δθ_SQ(KIC) Unc. [arcsec]            570\n",
            "\n",
            "[141 rows x 2 columns]\n"
          ]
        }
      ],
      "source": [
        "# Converter a Series para DataFrame para melhor visualização\n",
        "null_counts = df.isnull().sum().reset_index()\n",
        "null_counts.columns = ['Coluna', 'Valores_Nulos']\n",
        "print(null_counts)"
      ]
    },
    {
      "cell_type": "code",
      "execution_count": 189,
      "metadata": {
        "colab": {
          "base_uri": "https://localhost:8080/"
        },
        "id": "PVgw0rDoTe_q",
        "outputId": "1fe29911-f64a-4a2e-f003-7135983a77b2"
      },
      "outputs": [
        {
          "name": "stdout",
          "output_type": "stream",
          "text": [
            "Row ID                                                            0\n",
            "KepID                                                             0\n",
            "KOI Name                                                          0\n",
            "Kepler Name                                                    6817\n",
            "Exoplanet Archive Disposition                                     0\n",
            "Vetting Status                                                    0\n",
            "Date of Last Parameter Update                                     0\n",
            "Disposition Using Kepler Data                                     0\n",
            "Disposition Score                                              1510\n",
            "Not Transit-Like False Positive Flag                              0\n",
            "Stellar Eclipse False Positive Flag                               0\n",
            "Centroid Offset False Positive Flag                               0\n",
            "Ephemeris Match Indicates Contamination False Positive Flag       0\n",
            "Disposition Provenance                                            0\n",
            "Comment                                                        1209\n",
            "Orbital Period [days]                                             0\n",
            "Orbital Period Upper Unc. [days]                                454\n",
            "Orbital Period Lower Unc. [days]                                454\n",
            "Transit Epoch [BKJD]                                              0\n",
            "Transit Epoch Upper Unc. [BKJD]                                 454\n",
            "Transit Epoch Lower Unc. [BKJD]                                 454\n",
            "Transit Epoch [BJD]                                               0\n",
            "Transit Epoch Upper Unc. [BJD]                                  454\n",
            "Transit Epoch Lower Unc. [BJD]                                  454\n",
            "Eccentricity                                                    363\n",
            "Eccentricity Upper Unc.                                        9564\n",
            "Eccentricity Lower Unc.                                        9564\n",
            "Longitude of Periastron [deg]                                  9564\n",
            "Longitude of Periastron Upper Unc. [deg]                       9564\n",
            "Longitude of Periastron Lower Unc. [deg]                       9564\n",
            "Impact Parameter                                                363\n",
            "Impact Parameter Upper Unc.                                     454\n",
            "Impact Parameter Lower Unc.                                     454\n",
            "Transit Duration [hrs]                                            0\n",
            "Transit Duration Upper Unc. [hrs]                               454\n",
            "Transit Duration Lower Unc. [hrs]                               454\n",
            "Ingress Duration [hrs]                                         9564\n",
            "Ingress Duration Upper Unc. [hrs]                              9564\n",
            "Ingress Duration Lower Unc. [hrs]                              9564\n",
            "Transit Depth [ppm]                                             363\n",
            "Transit Depth Upper Unc. [ppm]                                  454\n",
            "Transit Depth Lower Unc. [ppm]                                  454\n",
            "Planet-Star Radius Ratio                                        363\n",
            "Planet-Star Radius Ratio Upper Unc.                             363\n",
            "Planet-Star Radius Ratio Lower Unc.                             363\n",
            "Fitted Stellar Density [g/cm**3]                                321\n",
            "Fitted Stellar Density Upper Unc. [g/cm**3]                     321\n",
            "Fitted Stellar Density Lower Unc. [g/cm**3]                     321\n",
            "Planetary Fit Type                                                0\n",
            "Planetary Radius [Earth radii]                                  363\n",
            "Planetary Radius Upper Unc. [Earth radii]                       363\n",
            "Planetary Radius Lower Unc. [Earth radii]                       363\n",
            "Orbit Semi-Major Axis [au]                                      363\n",
            "Orbit Semi-Major Axis Upper Unc. [au]                          9564\n",
            "Orbit Semi-Major Axis Lower Unc. [au]                          9564\n",
            "Inclination [deg]                                               364\n",
            "Inclination Upper Unc. [deg]                                   9564\n",
            "Inclination Lower Unc. [deg]                                   9564\n",
            "Equilibrium Temperature [K]                                     363\n",
            "Equilibrium Temperature Upper Unc. [K]                         9564\n",
            "Equilibrium Temperature Lower Unc. [K]                         9564\n",
            "Insolation Flux [Earth flux]                                    321\n",
            "Insolation Flux Upper Unc. [Earth flux]                         321\n",
            "Insolation Flux Lower Unc. [Earth flux]                         321\n",
            "Planet-Star Distance over Star Radius                           363\n",
            "Planet-Star Distance over Star Radius Upper Unc.                454\n",
            "Planet-Star Distance over Star Radius Lower Unc.                454\n",
            "Limb Darkening Model                                            363\n",
            "Limb Darkening Coeff. 4                                         363\n",
            "Limb Darkening Coeff. 3                                         363\n",
            "Limb Darkening Coeff. 2                                         363\n",
            "Limb Darkening Coeff. 1                                         363\n",
            "Parameters Provenance                                             0\n",
            "Maximum Single Event Statistic                                 1142\n",
            "Maximum Multiple Event Statistic                               1142\n",
            "Transit Signal-to-Noise                                         363\n",
            "Number of Planets                                                 0\n",
            "Number of Transits                                             1142\n",
            "TCE Planet Number                                               346\n",
            "TCE Delivery                                                    346\n",
            "Quarters                                                       1142\n",
            "Odd-Even Depth Comparison Statistic                            1510\n",
            "Transit Model                                                   363\n",
            "Degrees of Freedom                                             9564\n",
            "Chi-Square                                                     9564\n",
            "Link to DV Report                                               346\n",
            "Link to DV Summary                                              346\n",
            "Stellar Effective Temperature [K]                               363\n",
            "Stellar Effective Temperature Upper Unc. [K]                    468\n",
            "Stellar Effective Temperature Lower Unc. [K]                    483\n",
            "Stellar Surface Gravity [log10(cm/s**2)]                        363\n",
            "Stellar Surface Gravity Upper Unc. [log10(cm/s**2)]             468\n",
            "Stellar Surface Gravity Lower Unc. [log10(cm/s**2)]             468\n",
            "Stellar Metallicity [dex]                                       386\n",
            "Stellar Metallicity Upper Unc. [dex]                            387\n",
            "Stellar Metallicity Lower Unc. [dex]                            387\n",
            "Stellar Radius [Solar radii]                                    363\n",
            "Stellar Radius Upper Unc. [Solar radii]                         468\n",
            "Stellar Radius Lower Unc. [Solar radii]                         468\n",
            "Stellar Mass [Solar mass]                                       363\n",
            "Stellar Mass Upper Unc. [Solar mass]                            468\n",
            "Stellar Mass Lower Unc. [Solar mass]                            468\n",
            "Stellar Age [Gyr]                                              9564\n",
            "Stellar Age Upper Unc. [Gyr]                                   9564\n",
            "Stellar Age Lower Unc. [Gyr]                                   9564\n",
            "Stellar Parameter Provenance                                    363\n",
            "RA [decimal degrees]                                              0\n",
            "Dec [decimal degrees]                                             0\n",
            "Kepler-band [mag]                                                 1\n",
            "g'-band [mag]                                                    41\n",
            "r'-band [mag]                                                     9\n",
            "i'-band [mag]                                                   154\n",
            "z'-band [mag]                                                   613\n",
            "J-band [mag]                                                     25\n",
            "H-band [mag]                                                     25\n",
            "K-band [mag]                                                     25\n",
            "FW Offset Significance [percent]                               1076\n",
            "FW Source α(OOT) [hrs]                                          506\n",
            "FW Source α(OOT) Unc. [hrs]                                     506\n",
            "FW Source δ(OOT) [deg]                                          506\n",
            "FW Source δ(OOT) Unc. [deg]                                     506\n",
            "FW Source Δα(OOT) [sec]                                         455\n",
            "FW Source Δα(OOT) Unc. [sec]                                    455\n",
            "FW Source Δδ(OOT) [arcsec]                                      455\n",
            "FW Source Δδ(OOT) Unc. [arcsec]                                 455\n",
            "FW Δα(OOT) [sec]                                                830\n",
            "FW Δα(OOT) Unc. [sec]                                           830\n",
            "FW Δδ(OOT) [arcsec]                                             817\n",
            "FW Δδ(OOT) Unc. [arcsec]                                        817\n",
            "PRF Δα_SQ(OOT) [arcsec]                                         599\n",
            "PRF Δα_SQ(OOT) Unc. [arcsec]                                    599\n",
            "PRF Δδ_SQ(OOT) [arcsec]                                         599\n",
            "PRF Δδ_SQ(OOT) Unc. [arcsec]                                    599\n",
            "PRF Δθ_SQ(OOT) [arcsec]                                         599\n",
            "PRF Δθ_SQ(OOT) Unc. [arcsec]                                    599\n",
            "PRF Δα_SQ(KIC) [arcsec]                                         570\n",
            "PRF Δα_SQ(KIC) Unc. [arcsec]                                    570\n",
            "PRF Δδ_SQ(KIC) [arcsec]                                         570\n",
            "PRF Δδ_SQ(KIC) Unc. [arcsec]                                    570\n",
            "PRF Δθ_SQ(KIC) [arcsec]                                         570\n",
            "PRF Δθ_SQ(KIC) Unc. [arcsec]                                    570\n"
          ]
        }
      ],
      "source": [
        "print(df.isnull().sum().to_string())"
      ]
    },
    {
      "cell_type": "code",
      "execution_count": 190,
      "metadata": {
        "colab": {
          "base_uri": "https://localhost:8080/",
          "height": 0
        },
        "id": "qE6vJfuyUvu8",
        "outputId": "12830854-55ab-4ad2-9cfe-14fa86748828"
      },
      "outputs": [
        {
          "data": {
            "image/png": "[encoded data removed]",
            "text/plain": [
              "<Figure size 800x400 with 1 Axes>"
            ]
          },
          "metadata": {},
          "output_type": "display_data"
        }
      ],
      "source": [
        "# Gráfico de barras da distribuição\n",
        "\n",
        "plt.figure(figsize=(8, 4))\n",
        "df_limpo['Exoplanet Archive Disposition'].value_counts().plot(kind='bar')\n",
        "\n",
        "plt.title('Distribution of Exoplanets by Status')\n",
        "plt.xlabel('Disposition')\n",
        "plt.ylabel('Count')\n",
        "plt.xticks(rotation=45)\n",
        "plt.tight_layout()\n",
        "plt.show()"
      ]
    },
    {
      "cell_type": "code",
      "execution_count": 191,
      "metadata": {
        "colab": {
          "base_uri": "https://localhost:8080/"
        },
        "id": "YUWep0l0zqM3",
        "outputId": "8f23fc19-550d-4a85-fb65-e9628f2abe48"
      },
      "outputs": [
        {
          "data": {
            "text/plain": [
              "['Row ID',\n",
              " 'KepID',\n",
              " 'KOI Name',\n",
              " 'Kepler Name',\n",
              " 'Exoplanet Archive Disposition',\n",
              " 'Vetting Status',\n",
              " 'Date of Last Parameter Update',\n",
              " 'Disposition Using Kepler Data',\n",
              " 'Disposition Score',\n",
              " 'Not Transit-Like False Positive Flag',\n",
              " 'Stellar Eclipse False Positive Flag',\n",
              " 'Centroid Offset False Positive Flag',\n",
              " 'Ephemeris Match Indicates Contamination False Positive Flag',\n",
              " 'Disposition Provenance',\n",
              " 'Comment',\n",
              " 'Orbital Period [days]',\n",
              " 'Orbital Period Upper Unc. [days]',\n",
              " 'Orbital Period Lower Unc. [days]',\n",
              " 'Transit Epoch [BKJD]',\n",
              " 'Transit Epoch Upper Unc. [BKJD]',\n",
              " 'Transit Epoch Lower Unc. [BKJD]',\n",
              " 'Transit Epoch [BJD]',\n",
              " 'Transit Epoch Upper Unc. [BJD]',\n",
              " 'Transit Epoch Lower Unc. [BJD]',\n",
              " 'Eccentricity',\n",
              " 'Impact Parameter',\n",
              " 'Impact Parameter Upper Unc.',\n",
              " 'Impact Parameter Lower Unc.',\n",
              " 'Transit Duration [hrs]',\n",
              " 'Transit Duration Upper Unc. [hrs]',\n",
              " 'Transit Duration Lower Unc. [hrs]',\n",
              " 'Transit Depth [ppm]',\n",
              " 'Transit Depth Upper Unc. [ppm]',\n",
              " 'Transit Depth Lower Unc. [ppm]',\n",
              " 'Planet-Star Radius Ratio',\n",
              " 'Planet-Star Radius Ratio Upper Unc.',\n",
              " 'Planet-Star Radius Ratio Lower Unc.',\n",
              " 'Fitted Stellar Density [g/cm**3]',\n",
              " 'Fitted Stellar Density Upper Unc. [g/cm**3]',\n",
              " 'Fitted Stellar Density Lower Unc. [g/cm**3]',\n",
              " 'Planetary Fit Type',\n",
              " 'Planetary Radius [Earth radii]',\n",
              " 'Planetary Radius Upper Unc. [Earth radii]',\n",
              " 'Planetary Radius Lower Unc. [Earth radii]',\n",
              " 'Orbit Semi-Major Axis [au]',\n",
              " 'Inclination [deg]',\n",
              " 'Equilibrium Temperature [K]',\n",
              " 'Insolation Flux [Earth flux]',\n",
              " 'Insolation Flux Upper Unc. [Earth flux]',\n",
              " 'Insolation Flux Lower Unc. [Earth flux]',\n",
              " 'Planet-Star Distance over Star Radius',\n",
              " 'Planet-Star Distance over Star Radius Upper Unc.',\n",
              " 'Planet-Star Distance over Star Radius Lower Unc.',\n",
              " 'Limb Darkening Model',\n",
              " 'Limb Darkening Coeff. 4',\n",
              " 'Limb Darkening Coeff. 3',\n",
              " 'Limb Darkening Coeff. 2',\n",
              " 'Limb Darkening Coeff. 1',\n",
              " 'Parameters Provenance',\n",
              " 'Maximum Single Event Statistic',\n",
              " 'Maximum Multiple Event Statistic',\n",
              " 'Transit Signal-to-Noise',\n",
              " 'Number of Planets',\n",
              " 'Number of Transits',\n",
              " 'TCE Planet Number',\n",
              " 'TCE Delivery',\n",
              " 'Quarters',\n",
              " 'Odd-Even Depth Comparison Statistic',\n",
              " 'Transit Model',\n",
              " 'Link to DV Report',\n",
              " 'Link to DV Summary',\n",
              " 'Stellar Effective Temperature [K]',\n",
              " 'Stellar Effective Temperature Upper Unc. [K]',\n",
              " 'Stellar Effective Temperature Lower Unc. [K]',\n",
              " 'Stellar Surface Gravity [log10(cm/s**2)]',\n",
              " 'Stellar Surface Gravity Upper Unc. [log10(cm/s**2)]',\n",
              " 'Stellar Surface Gravity Lower Unc. [log10(cm/s**2)]',\n",
              " 'Stellar Metallicity [dex]',\n",
              " 'Stellar Metallicity Upper Unc. [dex]',\n",
              " 'Stellar Metallicity Lower Unc. [dex]',\n",
              " 'Stellar Radius [Solar radii]',\n",
              " 'Stellar Radius Upper Unc. [Solar radii]',\n",
              " 'Stellar Radius Lower Unc. [Solar radii]',\n",
              " 'Stellar Mass [Solar mass]',\n",
              " 'Stellar Mass Upper Unc. [Solar mass]',\n",
              " 'Stellar Mass Lower Unc. [Solar mass]',\n",
              " 'Stellar Parameter Provenance',\n",
              " 'RA [decimal degrees]',\n",
              " 'Dec [decimal degrees]',\n",
              " 'Kepler-band [mag]',\n",
              " \"g'-band [mag]\",\n",
              " \"r'-band [mag]\",\n",
              " \"i'-band [mag]\",\n",
              " \"z'-band [mag]\",\n",
              " 'J-band [mag]',\n",
              " 'H-band [mag]',\n",
              " 'K-band [mag]',\n",
              " 'FW Offset Significance [percent]',\n",
              " 'FW Source α(OOT) [hrs]',\n",
              " 'FW Source α(OOT) Unc. [hrs]',\n",
              " 'FW Source δ(OOT) [deg]',\n",
              " 'FW Source δ(OOT) Unc. [deg]',\n",
              " 'FW Source Δα(OOT) [sec]',\n",
              " 'FW Source Δα(OOT) Unc. [sec]',\n",
              " 'FW Source Δδ(OOT) [arcsec]',\n",
              " 'FW Source Δδ(OOT) Unc. [arcsec]',\n",
              " 'FW Δα(OOT) [sec]',\n",
              " 'FW Δα(OOT) Unc. [sec]',\n",
              " 'FW Δδ(OOT) [arcsec]',\n",
              " 'FW Δδ(OOT) Unc. [arcsec]',\n",
              " 'PRF Δα_SQ(OOT) [arcsec]',\n",
              " 'PRF Δα_SQ(OOT) Unc. [arcsec]',\n",
              " 'PRF Δδ_SQ(OOT) [arcsec]',\n",
              " 'PRF Δδ_SQ(OOT) Unc. [arcsec]',\n",
              " 'PRF Δθ_SQ(OOT) [arcsec]',\n",
              " 'PRF Δθ_SQ(OOT) Unc. [arcsec]',\n",
              " 'PRF Δα_SQ(KIC) [arcsec]',\n",
              " 'PRF Δα_SQ(KIC) Unc. [arcsec]',\n",
              " 'PRF Δδ_SQ(KIC) [arcsec]',\n",
              " 'PRF Δδ_SQ(KIC) Unc. [arcsec]',\n",
              " 'PRF Δθ_SQ(KIC) [arcsec]',\n",
              " 'PRF Δθ_SQ(KIC) Unc. [arcsec]']"
            ]
          },
          "execution_count": 191,
          "metadata": {},
          "output_type": "execute_result"
        }
      ],
      "source": [
        "list(df_limpo.columns)"
      ]
    },
    {
      "cell_type": "code",
      "execution_count": 192,
      "metadata": {
        "colab": {
          "base_uri": "https://localhost:8080/",
          "height": 0
        },
        "id": "h32cIl72Vgvs",
        "outputId": "431d3168-38dc-4fc5-9d46-5e4f2b3d0033"
      },
      "outputs": [
        {
          "data": {
            "text/html": [
              "<div>\n",
              "<style scoped>\n",
              "    .dataframe tbody tr th:only-of-type {\n",
              "        vertical-align: middle;\n",
              "    }\n",
              "\n",
              "    .dataframe tbody tr th {\n",
              "        vertical-align: top;\n",
              "    }\n",
              "\n",
              "    .dataframe thead th {\n",
              "        text-align: right;\n",
              "    }\n",
              "</style>\n",
              "<table border=\"1\" class=\"dataframe\">\n",
              "  <thead>\n",
              "    <tr style=\"text-align: right;\">\n",
              "      <th></th>\n",
              "      <th>Row ID</th>\n",
              "      <th>KepID</th>\n",
              "      <th>KOI Name</th>\n",
              "      <th>Kepler Name</th>\n",
              "      <th>Exoplanet Archive Disposition</th>\n",
              "      <th>Vetting Status</th>\n",
              "      <th>Date of Last Parameter Update</th>\n",
              "      <th>Disposition Using Kepler Data</th>\n",
              "      <th>Disposition Score</th>\n",
              "      <th>Not Transit-Like False Positive Flag</th>\n",
              "      <th>...</th>\n",
              "      <th>PRF Δδ_SQ(OOT) [arcsec]</th>\n",
              "      <th>PRF Δδ_SQ(OOT) Unc. [arcsec]</th>\n",
              "      <th>PRF Δθ_SQ(OOT) [arcsec]</th>\n",
              "      <th>PRF Δθ_SQ(OOT) Unc. [arcsec]</th>\n",
              "      <th>PRF Δα_SQ(KIC) [arcsec]</th>\n",
              "      <th>PRF Δα_SQ(KIC) Unc. [arcsec]</th>\n",
              "      <th>PRF Δδ_SQ(KIC) [arcsec]</th>\n",
              "      <th>PRF Δδ_SQ(KIC) Unc. [arcsec]</th>\n",
              "      <th>PRF Δθ_SQ(KIC) [arcsec]</th>\n",
              "      <th>PRF Δθ_SQ(KIC) Unc. [arcsec]</th>\n",
              "    </tr>\n",
              "  </thead>\n",
              "  <tbody>\n",
              "    <tr>\n",
              "      <th>0</th>\n",
              "      <td>1</td>\n",
              "      <td>10797460</td>\n",
              "      <td>K00752.01</td>\n",
              "      <td>Kepler-227 b</td>\n",
              "      <td>CONFIRMED</td>\n",
              "      <td>Done</td>\n",
              "      <td>2018-08-16</td>\n",
              "      <td>CANDIDATE</td>\n",
              "      <td>1.000</td>\n",
              "      <td>0</td>\n",
              "      <td>...</td>\n",
              "      <td>0.200</td>\n",
              "      <td>0.16</td>\n",
              "      <td>0.200</td>\n",
              "      <td>0.170</td>\n",
              "      <td>0.080</td>\n",
              "      <td>0.130</td>\n",
              "      <td>0.310</td>\n",
              "      <td>0.170</td>\n",
              "      <td>0.320</td>\n",
              "      <td>0.160</td>\n",
              "    </tr>\n",
              "    <tr>\n",
              "      <th>1</th>\n",
              "      <td>2</td>\n",
              "      <td>10797460</td>\n",
              "      <td>K00752.02</td>\n",
              "      <td>Kepler-227 c</td>\n",
              "      <td>CONFIRMED</td>\n",
              "      <td>Done</td>\n",
              "      <td>2018-08-16</td>\n",
              "      <td>CANDIDATE</td>\n",
              "      <td>0.969</td>\n",
              "      <td>0</td>\n",
              "      <td>...</td>\n",
              "      <td>0.000</td>\n",
              "      <td>0.48</td>\n",
              "      <td>0.390</td>\n",
              "      <td>0.360</td>\n",
              "      <td>0.490</td>\n",
              "      <td>0.340</td>\n",
              "      <td>0.120</td>\n",
              "      <td>0.730</td>\n",
              "      <td>0.500</td>\n",
              "      <td>0.450</td>\n",
              "    </tr>\n",
              "    <tr>\n",
              "      <th>2</th>\n",
              "      <td>3</td>\n",
              "      <td>10811496</td>\n",
              "      <td>K00753.01</td>\n",
              "      <td>NaN</td>\n",
              "      <td>CANDIDATE</td>\n",
              "      <td>Done</td>\n",
              "      <td>2018-08-16</td>\n",
              "      <td>CANDIDATE</td>\n",
              "      <td>0.000</td>\n",
              "      <td>0</td>\n",
              "      <td>...</td>\n",
              "      <td>-0.034</td>\n",
              "      <td>0.07</td>\n",
              "      <td>0.042</td>\n",
              "      <td>0.072</td>\n",
              "      <td>0.002</td>\n",
              "      <td>0.071</td>\n",
              "      <td>-0.027</td>\n",
              "      <td>0.074</td>\n",
              "      <td>0.027</td>\n",
              "      <td>0.074</td>\n",
              "    </tr>\n",
              "  </tbody>\n",
              "</table>\n",
              "<p>3 rows × 141 columns</p>\n",
              "</div>"
            ],
            "text/plain": [
              "   Row ID     KepID   KOI Name   Kepler Name Exoplanet Archive Disposition  \\\n",
              "0       1  10797460  K00752.01  Kepler-227 b                     CONFIRMED   \n",
              "1       2  10797460  K00752.02  Kepler-227 c                     CONFIRMED   \n",
              "2       3  10811496  K00753.01           NaN                     CANDIDATE   \n",
              "\n",
              "  Vetting Status Date of Last Parameter Update Disposition Using Kepler Data  \\\n",
              "0           Done                    2018-08-16                     CANDIDATE   \n",
              "1           Done                    2018-08-16                     CANDIDATE   \n",
              "2           Done                    2018-08-16                     CANDIDATE   \n",
              "\n",
              "   Disposition Score  Not Transit-Like False Positive Flag  ...  \\\n",
              "0              1.000                                     0  ...   \n",
              "1              0.969                                     0  ...   \n",
              "2              0.000                                     0  ...   \n",
              "\n",
              "   PRF Δδ_SQ(OOT) [arcsec]  PRF Δδ_SQ(OOT) Unc. [arcsec]  \\\n",
              "0                    0.200                          0.16   \n",
              "1                    0.000                          0.48   \n",
              "2                   -0.034                          0.07   \n",
              "\n",
              "   PRF Δθ_SQ(OOT) [arcsec] PRF Δθ_SQ(OOT) Unc. [arcsec]  \\\n",
              "0                    0.200                        0.170   \n",
              "1                    0.390                        0.360   \n",
              "2                    0.042                        0.072   \n",
              "\n",
              "  PRF Δα_SQ(KIC) [arcsec]  PRF Δα_SQ(KIC) Unc. [arcsec]  \\\n",
              "0                   0.080                         0.130   \n",
              "1                   0.490                         0.340   \n",
              "2                   0.002                         0.071   \n",
              "\n",
              "   PRF Δδ_SQ(KIC) [arcsec]  PRF Δδ_SQ(KIC) Unc. [arcsec]  \\\n",
              "0                    0.310                         0.170   \n",
              "1                    0.120                         0.730   \n",
              "2                   -0.027                         0.074   \n",
              "\n",
              "   PRF Δθ_SQ(KIC) [arcsec]  PRF Δθ_SQ(KIC) Unc. [arcsec]  \n",
              "0                    0.320                         0.160  \n",
              "1                    0.500                         0.450  \n",
              "2                    0.027                         0.074  \n",
              "\n",
              "[3 rows x 141 columns]"
            ]
          },
          "execution_count": 192,
          "metadata": {},
          "output_type": "execute_result"
        }
      ],
      "source": [
        "\n",
        "df.head(3)"
      ]
    },
    {
      "cell_type": "markdown",
      "metadata": {
        "id": "GiGgukloWCuM"
      },
      "source": [
        "# Tratamento dos Valores Nulos"
      ]
    },
    {
      "cell_type": "markdown",
      "metadata": {
        "id": "q34r8pCWWJwB"
      },
      "source": [
        "## Análise de Padrões de Missing Values"
      ]
    },
    {
      "cell_type": "code",
      "execution_count": 193,
      "metadata": {
        "id": "aKYiPttJWFd6"
      },
      "outputs": [],
      "source": [
        "# Identificar padrões sistemáticos\n",
        "padrao_nulos = df_limpo.isnull().sum()\n",
        "porcentagem_nulos = (padrao_nulos / len(df_limpo)) * 100\n",
        "\n",
        "# Classificar colunas por porcentagem de nulos\n",
        "alta_missing = porcentagem_nulos[porcentagem_nulos > 50]  # >50% nulos\n",
        "media_missing = porcentagem_nulos[(porcentagem_nulos > 10) & (porcentagem_nulos <= 50)]\n",
        "baixa_missing = porcentagem_nulos[porcentagem_nulos <= 10]"
      ]
    },
    {
      "cell_type": "markdown",
      "metadata": {
        "id": "i_2nWyPQWOSt"
      },
      "source": [
        "## 2. Estratégia por Categoria de Colunas"
      ]
    },
    {
      "cell_type": "code",
      "execution_count": 194,
      "metadata": {
        "id": "fCBTAHKmWQLa"
      },
      "outputs": [],
      "source": [
        "# COLUNAS CRÍTICAS (excluir linhas)\n",
        "colunas_criticas = [\n",
        "    'Orbital Period [days]', \n",
        "    'Transit Epoch [BKJD]', \n",
        "    'Transit Duration [hrs]',\n",
        "    'Exoplanet Archive Disposition', \n",
        "    'Planetary Fit Type'\n",
        "]\n",
        "df_limpo = df_limpo.dropna(subset=colunas_criticas)\n",
        "\n",
        "# COLUNAS COM BAIXA MISSING (<10%) - Imputação inteligente\n",
        "from sklearn.impute import SimpleImputer, KNNImputer\n",
        "import numpy as np\n",
        "\n",
        "# Para colunas numéricas com poucos nulos\n",
        "colunas_numericas_baixa = ['Orbital Period Upper Unc. [days]', \n",
        "    'Orbital Period Lower Unc. [days]']\n",
        "imputer_mediana = SimpleImputer(strategy='median')\n",
        "df_limpo[colunas_numericas_baixa] = imputer_mediana.fit_transform(df_limpo[colunas_numericas_baixa])\n",
        "\n",
        "# Para colunas categóricas com poucos nulos\n",
        "colunas_categoricas_baixa = ['Disposition Score', \n",
        "    'Comment']\n",
        "imputer_moda = SimpleImputer(strategy='most_frequent')\n",
        "df_limpo[colunas_categoricas_baixa] = imputer_moda.fit_transform(df_limpo[colunas_categoricas_baixa])"
      ]
    },
    {
      "cell_type": "markdown",
      "metadata": {
        "id": "HuUwQjGOW309"
      },
      "source": [
        "## 3. Colunas com Alta Taxa de Missing (>50%) - Exclusão ou Flags"
      ]
    },
    {
      "cell_type": "code",
      "execution_count": 195,
      "metadata": {
        "colab": {
          "base_uri": "https://localhost:8080/"
        },
        "id": "GR5FpXZ_W6qo",
        "outputId": "a21c46f8-e95a-450b-a391-0bc40b0f9738"
      },
      "outputs": [
        {
          "name": "stdout",
          "output_type": "stream",
          "text": [
            "Colunas que serão excluídas:\n",
            "[]\n",
            "\n",
            "Colunas que NÃO existem no DataFrame:\n",
            "['Eccentricity Upper Unc.', 'Eccentricity Lower Unc.', 'Periastron Longitude [deg]', 'Ingress Duration [hours]', 'Semi-Major Axis Upper Unc. [AU]', 'Stellar Age [Gyr]', 'Model Degrees of Freedom', 'Model chi2']\n",
            "\n",
            "Nenhuma coluna para excluir\n",
            "Flag criada para 'Kepler Name'\n"
          ]
        }
      ],
      "source": [
        "# Colunas com >50% nulos (baseado na sua análise)\n",
        "colunas_alta_missing = [\n",
        "    'Kepler Name', \n",
        "    'Eccentricity Upper Unc.', \n",
        "    'Eccentricity Lower Unc.',\n",
        "    'Periastron Longitude [deg]', \n",
        "    'Ingress Duration [hours]', \n",
        "    'Semi-Major Axis Upper Unc. [AU]',\n",
        "    'Stellar Age [Gyr]', \n",
        "    'Model Degrees of Freedom', \n",
        "    'Model chi2'\n",
        "]\n",
        "\n",
        "# Verificar quais colunas realmente existem no DataFrame\n",
        "colunas_existentes = df_limpo.columns.tolist()\n",
        "colunas_para_excluir = [col for col in colunas_alta_missing if col in colunas_existentes and col != 'Kepler Name']\n",
        "\n",
        "print(\"Colunas que serão excluídas:\")\n",
        "print(colunas_para_excluir)\n",
        "\n",
        "print(\"\\nColunas que NÃO existem no DataFrame:\")\n",
        "colunas_nao_existentes = [col for col in colunas_alta_missing if col not in colunas_existentes]\n",
        "print(colunas_nao_existentes)\n",
        "\n",
        "# Excluir apenas as colunas que existem\n",
        "if colunas_para_excluir:\n",
        "    df_limpo = df_limpo.drop(columns=colunas_para_excluir)\n",
        "    print(f\"\\nColunas excluídas com sucesso: {colunas_para_excluir}\")\n",
        "else:\n",
        "    print(\"\\nNenhuma coluna para excluir\")\n",
        "\n",
        "# Criar flag para Nome_Kepler (se existir)\n",
        "if 'Kepler Name' in df_limpo.columns:\n",
        "    df_limpo['flag_Nome_Kepler_ausente'] = df_limpo['Kepler Name'].isnull().astype(int)\n",
        "    print(\"Flag criada para 'Kepler Name'\")"
      ]
    },
    {
      "cell_type": "markdown",
      "metadata": {
        "id": "X2hybM4MXojb"
      },
      "source": [
        "## 4. Imputação Avançada para Colunas Moderadas"
      ]
    },
    {
      "cell_type": "code",
      "execution_count": 196,
      "metadata": {
        "id": "1N02wErkXqSB"
      },
      "outputs": [],
      "source": [
        "# COLUNAS COM MISSING MODERADO (10-50%) - Imputação multivariada\n",
        "colunas_imputacao_avancada = [\n",
        "    'Eccentricity', \n",
        "    'Impact Parameter', \n",
        "    'Planetary Radius [Earth radii]',\n",
        "    'Equilibrium Temperature [K]', \n",
        "    'Stellar Effective Temperature [K]'\n",
        "]\n",
        "\n",
        "# Usar KNN Imputer para relações complexas\n",
        "from sklearn.impute import KNNImputer\n",
        "\n",
        "imputer_knn = KNNImputer(n_neighbors=5)\n",
        "df_limpo[colunas_imputacao_avancada] = imputer_knn.fit_transform(df_limpo[colunas_imputacao_avancada])"
      ]
    },
    {
      "cell_type": "markdown",
      "metadata": {
        "id": "cTTBIh8oXtVp"
      },
      "source": [
        "## 5. Tratamento Específico por Domínio"
      ]
    },
    {
      "cell_type": "code",
      "execution_count": 197,
      "metadata": {
        "id": "0kN2QlJ6XuRQ"
      },
      "outputs": [],
      "source": [
        "# Para erros de medição (valores simétricos)\n",
        "colunas_erro = [\n",
        "    'Orbital Period Upper Unc. [days]', \n",
        "    'Orbital Period Lower Unc. [days]',\n",
        "    'Transit Epoch Upper Unc. [BKJD]', \n",
        "    'Transit Epoch Lower Unc. [BKJD]'\n",
        "]\n",
        "\n",
        "for col in colunas_erro:\n",
        "    if df_limpo[col].isnull().sum() > 0:\n",
        "        # Para erros, usar pequena fração do valor principal\n",
        "        col_principal = col.replace(' Upper Unc.', '').replace(' Lower Unc.', '')\n",
        "        df_limpo[col] = df_limpo[col].fillna(df_limpo[col_principal] * 0.01)"
      ]
    },
    {
      "cell_type": "markdown",
      "metadata": {
        "id": "VY6ExyvJXzFg"
      },
      "source": [
        "## 6. Script Completo Otimizado"
      ]
    },
    {
      "cell_type": "code",
      "execution_count": 198,
      "metadata": {
        "id": "m4arWTktXyLY"
      },
      "outputs": [],
      "source": [
        "def tratamento_inteligente_nulos(df):\n",
        "    \"\"\"\n",
        "    Tratamento inteligente de valores nulos baseado em análise de padrões\n",
        "    \"\"\"\n",
        "\n",
        "    # Backup do dataset original\n",
        "    df_tratado = df.copy()\n",
        "\n",
        "    # 1. Excluir colunas com >70% nulos (exceto as importantes)\n",
        "    threshold_exclusao = 0.7\n",
        "    colunas_alta_missing = df_tratado.columns[df_tratado.isnull().mean() > threshold_exclusao]\n",
        "    colunas_importantes = ['Nome_Kepler']  # Manter mesmo com muitos nulos\n",
        "    colunas_para_manter = [col for col in colunas_alta_missing if col in colunas_importantes]\n",
        "    colunas_para_excluir = [col for col in colunas_alta_missing if col not in colunas_importantes]\n",
        "\n",
        "    df_tratado = df_tratado.drop(columns=colunas_para_excluir)\n",
        "\n",
        "    # 2. Criar flags para colunas importantes com muitos nulos\n",
        "    for col in colunas_para_manter:\n",
        "        df_tratado[f'flag_{col}_ausente'] = df_tratado[col].isnull().astype(int)\n",
        "\n",
        "    # 3. Imputação hierárquica por tipo de dado\n",
        "    # Numéricas: mediana para baixa missing, KNN para moderada\n",
        "    colunas_numericas = df_tratado.select_dtypes(include=[np.number]).columns\n",
        "\n",
        "    for col in colunas_numericas:\n",
        "        missing_pct = df_tratado[col].isnull().mean()\n",
        "\n",
        "        if missing_pct == 0:\n",
        "            continue\n",
        "        elif missing_pct <= 0.1:\n",
        "            # Baixa missing - imputação simples\n",
        "            df_tratado[col] = df_tratado[col].fillna(df_tratado[col].median())\n",
        "        elif missing_pct <= 0.3:\n",
        "            # Moderada missing - KNN\n",
        "            imputer = KNNImputer(n_neighbors=5)\n",
        "            df_tratado[col] = imputer.fit_transform(df_tratado[[col]])\n",
        "        else:\n",
        "            # Alta missing - manter como está ou usar modelo mais complexo\n",
        "            pass\n",
        "\n",
        "    # 4. Categóricas: moda ou categoria especial\n",
        "    colunas_categoricas = df_tratado.select_dtypes(include=['object']).columns\n",
        "\n",
        "    for col in colunas_categoricas:\n",
        "        if df_tratado[col].isnull().sum() > 0:\n",
        "            df_tratado[col] = df_tratado[col].fillna('NÃO_INFORMADO')\n",
        "\n",
        "    return df_tratado\n",
        "\n",
        "# Aplicar o tratamento\n",
        "df_final = tratamento_inteligente_nulos(df_limpo)"
      ]
    },
    {
      "cell_type": "code",
      "execution_count": 199,
      "metadata": {
        "colab": {
          "base_uri": "https://localhost:8080/"
        },
        "id": "p6cvGJnEX4gZ",
        "outputId": "a93776b9-79ff-4cca-b3c2-a2a794684460"
      },
      "outputs": [
        {
          "name": "stdout",
          "output_type": "stream",
          "text": [
            "Nulos restantes após tratamento:\n",
            "Series([], dtype: int64)\n",
            "\n",
            "Shape original: (9564, 123)\n",
            "Shape final: (9564, 122)\n",
            "Redução de nulos: 100.0%\n"
          ]
        }
      ],
      "source": [
        "# Verificar resultado final\n",
        "nulos_restantes = df_final.isnull().sum()\n",
        "print(\"Nulos restantes após tratamento:\")\n",
        "print(nulos_restantes[nulos_restantes > 0])\n",
        "\n",
        "print(f\"\\nShape original: {df_limpo.shape}\")\n",
        "print(f\"Shape final: {df_final.shape}\")\n",
        "print(f\"Redução de nulos: {(df_limpo.isnull().sum().sum() - df_final.isnull().sum().sum()) / df_limpo.isnull().sum().sum() * 100:.1f}%\")"
      ]
    },
    {
      "cell_type": "code",
      "execution_count": 200,
      "metadata": {
        "colab": {
          "base_uri": "https://localhost:8080/",
          "height": 0
        },
        "id": "AiL2Vzq1X783",
        "outputId": "d29e2949-e3a1-47ac-8e7d-b737bc1da119"
      },
      "outputs": [
        {
          "data": {
            "text/plain": [
              "<Axes: >"
            ]
          },
          "execution_count": 200,
          "metadata": {},
          "output_type": "execute_result"
        },
        {
          "data": {
            "image/png": "[encoded data removed]",
            "text/plain": [
              "<Figure size 2500x1000 with 2 Axes>"
            ]
          },
          "metadata": {},
          "output_type": "display_data"
        }
      ],
      "source": [
        "msno.matrix(df_final)"
      ]
    },
    {
      "cell_type": "markdown",
      "metadata": {
        "id": "ajDr2zmuYJeZ"
      },
      "source": [
        "# Redução de dimensionalidade"
      ]
    },
    {
      "cell_type": "code",
      "execution_count": 201,
      "metadata": {
        "id": "iwj2jDZfYcIl"
      },
      "outputs": [],
      "source": [
        "df_final.to_csv('data/dataset_exoplanetas_final.csv', index=False)"
      ]
    },
    {
      "cell_type": "code",
      "execution_count": 203,
      "metadata": {
        "id": "_3FAyYxHZGTN"
      },
      "outputs": [],
      "source": [
        "import pandas as pd\n",
        "\n",
        "# Carregar o dataset\n",
        "df = pd.read_csv('data/dataset_exoplanetas_final.csv')\n",
        "\n",
        "# Colunas a manter\n",
        "colunas_manter = [\n",
        "    'Exoplanet Archive Disposition',       # Disposicao_Arquivo_Exoplanetas -> koi_disposition\n",
        "    'Orbital Period [days]',               # Periodo_Orbital_dias -> koi_period\n",
        "    'Disposition Score',                   # Pontuacao_Disposicao -> koi_score\n",
        "    'Planet-Star Radius Ratio',            # Razao_RaioPlaneta_RaioEstrela -> koi_ror\n",
        "    'Planetary Radius [Earth radii]',      # Raio_Planetario_RaioTerra -> koi_prad\n",
        "    'Orbit Semi-Major Axis [au]',          # SemiEixo_Maior_UA -> koi_sma\n",
        "    'Inclination [deg]',                   # Inclinacao_graus -> koi_incl\n",
        "    'Equilibrium Temperature [K]',         # Temperatura_Equilibrio_K -> koi_teq\n",
        "    'Insolation Flux [Earth flux]',        # Fluxo_Insolacao_FluxoTerra -> koi_insol\n",
        "    'Stellar Effective Temperature [K]',   # Temperatura_Efetiva_Estrela_K -> koi_steff\n",
        "    'Stellar Surface Gravity [log10(cm/s**2)]',  # Gravidade_Superficial_Estrela_log_cm_s2 -> koi_slogg\n",
        "    'Stellar Metallicity [dex]',           # Metalicidade_Estrela_dex -> koi_smet\n",
        "    'Stellar Radius [Solar radii]',        # Raio_Estrela_RaioSolar -> koi_srad\n",
        "    'Stellar Mass [Solar mass]',           # Massa_Estrela_MassaSolar -> koi_smass\n",
        "    'Eccentricity',                        # Excentricidade -> koi_eccen\n",
        "    'Transit Depth [ppm]',                 # Profundidade_Transito_ppm -> koi_depth\n",
        "    'Transit Duration [hrs]',              # Duracao_Transito_horas -> koi_duration\n",
        "    'Transit Signal-to-Noise',             # Razao_Sinal_Ruido_Transito -> koi_model_snr\n",
        "    'Number of Transits',                  # Numero_Transitos -> koi_num_transits\n",
        "    'Not Transit-Like False Positive Flag',# Flag_FP_Nao_Transito -> koi_fpflag_nt\n",
        "    'Stellar Eclipse False Positive Flag', # Flag_FP_Eclipse_Estelar -> koi_fpflag_ss\n",
        "    'Centroid Offset False Positive Flag', # Flag_FP_Offset_Centroid -> koi_fpflag_co\n",
        "    'Ephemeris Match Indicates Contamination False Positive Flag' # Flag_FP_Contaminacao_Efemeride -> koi_fpflag_ec\n",
        "]\n",
        "\n",
        "# Filtrar apenas as colunas desejadas\n",
        "df_reduzido = df[colunas_manter]\n",
        "\n",
        "# Salvar novo dataset\n",
        "df_reduzido.to_csv('data/dataset_exoplanetas_reduzido.csv', index=False)"
      ]
    },
    {
      "cell_type": "markdown",
      "metadata": {
        "id": "I19nTV4MZRzt"
      },
      "source": [
        "# Treinando IA"
      ]
    },
    {
      "cell_type": "code",
      "execution_count": null,
      "metadata": {
        "id": "GgZmhBE5nujR"
      },
      "outputs": [],
      "source": [
        "from sklearn.preprocessing import LabelEncoder, StandardScaler\n",
        "from sklearn.model_selection import train_test_split\n",
        "from sklearn.neural_network import MLPClassifier\n",
        "from sklearn.metrics import classification_report, confusion_matrix, accuracy_score, precision_score, recall_score, f1_score\n",
        "import joblib"
      ]
    },
    {
      "cell_type": "markdown",
      "metadata": {
        "id": "S4mCvRpvo4i5"
      },
      "source": [
        "## ETAPA 1: Carregar e Preparar os Dados"
      ]
    },
    {
      "cell_type": "code",
      "execution_count": null,
      "metadata": {
        "colab": {
          "base_uri": "https://localhost:8080/"
        },
        "id": "AN_0lj2LaSUT",
        "outputId": "fa2e77ff-d89d-482c-f0ba-b4c0b5820d2d"
      },
      "outputs": [
        {
          "name": "stdout",
          "output_type": "stream",
          "text": [
            "=== ETAPA 1: Carregando e Preparando Dados ===\n",
            "Dataset shape: (9564, 24)\n",
            "Distribuição das classes:\n",
            "  CANDIDATE: 1979 amostras (20.7%)\n",
            "  CONFIRMED: 2746 amostras (28.7%)\n",
            "  FALSE POSITIVE: 4839 amostras (50.6%)\n"
          ]
        }
      ],
      "source": [
        "\n",
        "print(\"=== ETAPA 1: Carregando e Preparando Dados ===\")\n",
        "df = pd.read_csv('data/dataset_exoplanetas_reduzido.csv')\n",
        "\n",
        "# Codificar target\n",
        "label_encoder = LabelEncoder()\n",
        "df['target_encoded'] = label_encoder.fit_transform(df['Disposicao_Arquivo_Exoplanetas'])\n",
        "X = df.drop(['Disposicao_Arquivo_Exoplanetas', 'target_encoded'], axis=1)\n",
        "y = df['target_encoded']\n",
        "\n",
        "print(f\"Dataset shape: {df.shape}\")\n",
        "print(f\"Distribuição das classes:\")\n",
        "for i, classe in enumerate(label_encoder.classes_):\n",
        "    count = (y == i).sum()\n",
        "    print(f\"  {classe}: {count} amostras ({count/len(y)*100:.1f}%)\")\n",
        "\n"
      ]
    },
    {
      "cell_type": "markdown",
      "metadata": {
        "id": "YZQ-jUUPo_Nc"
      },
      "source": [
        "## ETAPA 2: Pré-processamento"
      ]
    },
    {
      "cell_type": "code",
      "execution_count": null,
      "metadata": {
        "colab": {
          "base_uri": "https://localhost:8080/"
        },
        "id": "15YMzlAKn08a",
        "outputId": "25e951b8-2c58-4884-c00a-c67090875b63"
      },
      "outputs": [
        {
          "name": "stdout",
          "output_type": "stream",
          "text": [
            "\n",
            "=== ETAPA 2: Pré-processamento ===\n",
            "Treino: (7651, 22)\n",
            "Teste: (1913, 22)\n"
          ]
        }
      ],
      "source": [
        "print(\"\\n=== ETAPA 2: Pré-processamento ===\")\n",
        "scaler = StandardScaler()\n",
        "X_scaled = scaler.fit_transform(X)\n",
        "\n",
        "# Dividir treino/teste\n",
        "X_train, X_test, y_train, y_test = train_test_split(\n",
        "    X_scaled, y, test_size=0.2, random_state=42, stratify=y\n",
        ")\n",
        "\n",
        "print(f\"Treino: {X_train.shape}\")\n",
        "print(f\"Teste: {X_test.shape}\")\n",
        "\n"
      ]
    },
    {
      "cell_type": "markdown",
      "metadata": {
        "id": "K6N-GJZdpGtd"
      },
      "source": [
        "## ETAPA 3: Treinar Modelo"
      ]
    },
    {
      "cell_type": "code",
      "execution_count": null,
      "metadata": {
        "colab": {
          "base_uri": "https://localhost:8080/"
        },
        "id": "yVHZr1HEn410",
        "outputId": "c19adaf7-f5d4-4b1c-fa1d-2979a8bd6d0f"
      },
      "outputs": [
        {
          "name": "stdout",
          "output_type": "stream",
          "text": [
            "\n",
            "=== ETAPA 3: Treinando Rede Neural ===\n",
            "Treinamento concluído!\n"
          ]
        }
      ],
      "source": [
        "print(\"\\n=== ETAPA 3: Treinando Rede Neural ===\")\n",
        "mlp = MLPClassifier(\n",
        "    hidden_layer_sizes=(100, 50),\n",
        "    activation='relu',\n",
        "    solver='adam',\n",
        "    max_iter=1000,\n",
        "    random_state=42,\n",
        "    early_stopping=True,\n",
        "    validation_fraction=0.1,\n",
        "    n_iter_no_change=50\n",
        ")\n",
        "\n",
        "mlp.fit(X_train, y_train)\n",
        "print(\"Treinamento concluído!\")\n",
        "\n"
      ]
    },
    {
      "cell_type": "markdown",
      "metadata": {
        "id": "LEJoCZ14pL3q"
      },
      "source": [
        "## ETAPA 4: Avaliação Completa"
      ]
    },
    {
      "cell_type": "code",
      "execution_count": null,
      "metadata": {
        "colab": {
          "base_uri": "https://localhost:8080/"
        },
        "id": "9hMzfdz4n8mv",
        "outputId": "3f637797-4264-4bf0-94ad-a86e8e0e48d3"
      },
      "outputs": [
        {
          "name": "stdout",
          "output_type": "stream",
          "text": [
            "\n",
            "=== ETAPA 4: PERFORMANCE FINAL ===\n",
            " MÉTRICAS GERAIS:\n",
            " Acurácia: 0.8944 (89.44%)\n",
            " Precisão: 0.8940\n",
            " Recall: 0.8944\n",
            " F1-Score: 0.8942\n",
            "\n",
            " RELATÓRIO DETALHADO POR CLASSE:\n",
            "                precision    recall  f1-score   support\n",
            "\n",
            "     CANDIDATE       0.75      0.74      0.75       396\n",
            "     CONFIRMED       0.84      0.84      0.84       549\n",
            "FALSE POSITIVE       0.98      0.99      0.99       968\n",
            "\n",
            "      accuracy                           0.89      1913\n",
            "     macro avg       0.86      0.86      0.86      1913\n",
            "  weighted avg       0.89      0.89      0.89      1913\n",
            "\n",
            "\n",
            " MATRIZ DE CONFUSÃO:\n",
            "[[295  87  14]\n",
            " [ 89 459   1]\n",
            " [ 10   1 957]]\n"
          ]
        }
      ],
      "source": [
        "\n",
        "print(\"\\n=== ETAPA 4: PERFORMANCE FINAL ===\")\n",
        "y_pred = mlp.predict(X_test)\n",
        "\n",
        "# Métricas principais\n",
        "accuracy = accuracy_score(y_test, y_pred)\n",
        "precision = precision_score(y_test, y_pred, average='weighted')\n",
        "recall = recall_score(y_test, y_pred, average='weighted')\n",
        "f1 = f1_score(y_test, y_pred, average='weighted')\n",
        "\n",
        "print(\" MÉTRICAS GERAIS:\")\n",
        "print(f\" Acurácia: {accuracy:.4f} ({accuracy*100:.2f}%)\")\n",
        "print(f\" Precisão: {precision:.4f}\")\n",
        "print(f\" Recall: {recall:.4f}\")\n",
        "print(f\" F1-Score: {f1:.4f}\")\n",
        "\n",
        "# Relatório detalhado por classe\n",
        "print(\"\\n RELATÓRIO DETALHADO POR CLASSE:\")\n",
        "print(classification_report(y_test, y_pred, target_names=label_encoder.classes_))\n",
        "\n",
        "# Matriz de confusão\n",
        "cm = confusion_matrix(y_test, y_pred)\n",
        "print(\"\\n MATRIZ DE CONFUSÃO:\")\n",
        "print(cm)\n",
        "\n"
      ]
    },
    {
      "cell_type": "markdown",
      "metadata": {
        "id": "ZZV_fEeypSIw"
      },
      "source": [
        "## ETAPA 5: Visualizações"
      ]
    },
    {
      "cell_type": "code",
      "execution_count": null,
      "metadata": {
        "colab": {
          "base_uri": "https://localhost:8080/",
          "height": 0
        },
        "id": "DeNHRJ5toAQn",
        "outputId": "151eea34-8183-4803-a402-a234f34ba97b"
      },
      "outputs": [
        {
          "name": "stdout",
          "output_type": "stream",
          "text": [
            "\n",
            "=== ETAPA 5: Visualizações ===\n"
          ]
        },
        {
          "data": {
            "image/png": "[encoded data removed]",
            "text/plain": [
              "<Figure size 1000x800 with 2 Axes>"
            ]
          },
          "metadata": {},
          "output_type": "display_data"
        },
        {
          "data": {
            "image/png": "[encoded data removed]",
            "text/plain": [
              "<Figure size 1000x600 with 1 Axes>"
            ]
          },
          "metadata": {},
          "output_type": "display_data"
        },
        {
          "data": {
            "text/plain": [
              "<Figure size 1000x600 with 0 Axes>"
            ]
          },
          "metadata": {},
          "output_type": "display_data"
        },
        {
          "data": {
            "image/png": "[encoded data removed]",
            "text/plain": [
              "<Figure size 1000x600 with 1 Axes>"
            ]
          },
          "metadata": {},
          "output_type": "display_data"
        }
      ],
      "source": [
        "print(\"\\n=== ETAPA 5: Visualizações ===\")\n",
        "\n",
        "# 1. Matriz de Confusão\n",
        "plt.figure(figsize=(10, 8))\n",
        "sns.heatmap(cm, annot=True, fmt='d', cmap='Blues',\n",
        "           xticklabels=label_encoder.classes_,\n",
        "           yticklabels=label_encoder.classes_,\n",
        "           cbar_kws={'label': 'Quantidade'})\n",
        "plt.title('MATRIZ DE CONFUSÃO - Performance Final', fontsize=16, fontweight='bold')\n",
        "plt.ylabel('Valor Real', fontsize=12)\n",
        "plt.xlabel('Predição do Modelo', fontsize=12)\n",
        "plt.tight_layout()\n",
        "plt.show()\n",
        "\n",
        "# 2. Curva de Aprendizado\n",
        "plt.figure(figsize=(10, 6))\n",
        "plt.plot(mlp.loss_curve_, linewidth=2)\n",
        "plt.title('Curva de Aprendizado da Rede Neural', fontsize=14, fontweight='bold')\n",
        "plt.xlabel('Época', fontsize=12)\n",
        "plt.ylabel('Perda (Loss)', fontsize=12)\n",
        "plt.grid(True, alpha=0.3)\n",
        "plt.tight_layout()\n",
        "plt.show()\n",
        "\n",
        "# 3. Métricas por Classe\n",
        "class_metrics = classification_report(y_test, y_pred, target_names=label_encoder.classes_, output_dict=True)\n",
        "metrics_df = pd.DataFrame(class_metrics).transpose().drop(['accuracy', 'macro avg', 'weighted avg'])\n",
        "\n",
        "plt.figure(figsize=(10, 6))\n",
        "metrics_df[['precision', 'recall', 'f1-score']].plot(kind='bar', figsize=(10, 6))\n",
        "plt.title('Métricas por Classe', fontsize=14, fontweight='bold')\n",
        "plt.xlabel('Classe', fontsize=12)\n",
        "plt.ylabel('Score', fontsize=12)\n",
        "plt.legend(bbox_to_anchor=(1.05, 1), loc='upper left')\n",
        "plt.grid(True, alpha=0.3)\n",
        "plt.tight_layout()\n",
        "plt.show()\n",
        "\n"
      ]
    },
    {
      "cell_type": "markdown",
      "metadata": {
        "id": "PcQosJRqpVO8"
      },
      "source": [
        "## ETAPA 6: Análise de Erros"
      ]
    },
    {
      "cell_type": "code",
      "execution_count": null,
      "metadata": {
        "colab": {
          "base_uri": "https://localhost:8080/"
        },
        "id": "3qtrksiVoDT-",
        "outputId": "4ab22786-abcc-4f57-8cea-cafd2df8ba7d"
      },
      "outputs": [
        {
          "name": "stdout",
          "output_type": "stream",
          "text": [
            "\n",
            "=== ETAPA 6: ANÁLISE DE ERROS ===\n",
            "Total de erros: 202/1913 (10.6%)\n",
            "\n",
            "Distribuição dos erros:\n",
            "Verdadeiro      Predito       \n",
            "CONFIRMED       CANDIDATE         89\n",
            "CANDIDATE       CONFIRMED         87\n",
            "                FALSE POSITIVE    14\n",
            "FALSE POSITIVE  CANDIDATE         10\n",
            "CONFIRMED       FALSE POSITIVE     1\n",
            "FALSE POSITIVE  CONFIRMED          1\n",
            "Name: count, dtype: int64\n"
          ]
        }
      ],
      "source": [
        "\n",
        "print(\"\\n=== ETAPA 6: ANÁLISE DE ERROS ===\")\n",
        "\n",
        "# Identificar amostras classificadas erroneamente\n",
        "errors = X_test[y_pred != y_test]\n",
        "error_true = y_test[y_pred != y_test]\n",
        "error_pred = y_pred[y_pred != y_test]\n",
        "\n",
        "print(f\"Total de erros: {len(errors)}/{len(X_test)} ({len(errors)/len(X_test)*100:.1f}%)\")\n",
        "\n",
        "if len(errors) > 0:\n",
        "    error_analysis = pd.DataFrame({\n",
        "        'Verdadeiro': [label_encoder.classes_[i] for i in error_true],\n",
        "        'Predito': [label_encoder.classes_[i] for i in error_pred]\n",
        "    })\n",
        "\n",
        "    print(\"\\nDistribuição dos erros:\")\n",
        "    print(error_analysis.value_counts())\n",
        "\n"
      ]
    },
    {
      "cell_type": "markdown",
      "metadata": {
        "id": "8iFWBPplpaFF"
      },
      "source": [
        "## ETAPA 7: Salvar Modelo"
      ]
    },
    {
      "cell_type": "code",
      "execution_count": null,
      "metadata": {
        "colab": {
          "base_uri": "https://localhost:8080/"
        },
        "id": "9DT70EyRoE55",
        "outputId": "a02a5fc6-fb49-4ff2-fa20-13b8ecaddb93"
      },
      "outputs": [
        {
          "name": "stdout",
          "output_type": "stream",
          "text": [
            "\n",
            "=== ETAPA 7: Salvando Modelo ===\n",
            "Modelo salvo como 'modelo_final_exoplanetas.pkl'\n"
          ]
        }
      ],
      "source": [
        "\n",
        "print(\"\\n=== ETAPA 7: Salvando Modelo ===\")\n",
        "joblib.dump(mlp, 'data/modelo_final_exoplanetas.pkl')\n",
        "joblib.dump(scaler, 'data/scaler_exoplanetas.pkl')\n",
        "joblib.dump(label_encoder, 'data/label_encoder_exoplanetas.pkl')\n",
        "\n",
        "print(\"Modelo salvo como 'modelo_final_exoplanetas.pkl'\")\n"
      ]
    },
    {
      "cell_type": "markdown",
      "metadata": {
        "id": "P4BsBZMFpcyh"
      },
      "source": [
        "## RESUMO FINAL"
      ]
    },
    {
      "cell_type": "code",
      "execution_count": null,
      "metadata": {
        "colab": {
          "base_uri": "https://localhost:8080/"
        },
        "id": "lH2aO0uLpgNA",
        "outputId": "2e26825e-51d8-4c00-a752-8a054757132e"
      },
      "outputs": [
        {
          "name": "stdout",
          "output_type": "stream",
          "text": [
            "\n",
            "==================================================\n",
            "RESUMO FINAL DA PERFORMANCE\n",
            "==================================================\n",
            "Acurácia Final: 89.44%\n",
            "Precisão Média: 89.40%\n",
            "Recall Médio: 89.44%\n",
            "F1-Score Médio: 89.42%\n",
            "Total de Amostras: 9564\n",
            "Classes: ['CANDIDATE', 'CONFIRMED', 'FALSE POSITIVE']\n",
            "==================================================\n"
          ]
        }
      ],
      "source": [
        "\n",
        "\n",
        "print(\"\\n\" + \"=\"*50)\n",
        "print(\"RESUMO FINAL DA PERFORMANCE\")\n",
        "print(\"=\"*50)\n",
        "print(f\"Acurácia Final: {accuracy*100:.2f}%\")\n",
        "print(f\"Precisão Média: {precision*100:.2f}%\")\n",
        "print(f\"Recall Médio: {recall*100:.2f}%\")\n",
        "print(f\"F1-Score Médio: {f1*100:.2f}%\")\n",
        "print(f\"Total de Amostras: {len(X)}\")\n",
        "print(f\"Classes: {list(label_encoder.classes_)}\")\n",
        "print(\"=\"*50)"
      ]
    }
  ],
  "metadata": {
    "colab": {
      "provenance": []
    },
    "kernelspec": {
      "display_name": "app_challenge",
      "language": "python",
      "name": "python3"
    },
    "language_info": {
      "codemirror_mode": {
        "name": "ipython",
        "version": 3
      },
      "file_extension": ".py",
      "mimetype": "text/x-python",
      "name": "python",
      "nbconvert_exporter": "python",
      "pygments_lexer": "ipython3",
      "version": "3.13.7"
    }
  },
  "nbformat": 4,
  "nbformat_minor": 0
}
